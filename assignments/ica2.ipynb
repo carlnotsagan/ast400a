{
 "cells": [
  {
   "cell_type": "markdown",
   "metadata": {
    "user_expressions": []
   },
   "source": [
    "# In-Class Assignment 2\n",
    "\n",
    "**Credit: These exercises follow from work by Mike Zingale's computational lectures.**\n",
    "\n",
    "Following Exercise 1.3 from [HKT, Chapter 1, Available Online](https://arizona-ua.primo.exlibrisgroup.com/permalink/01UA_INST/1ffcblk/alma991048844104203843).\n",
    "\n",
    "**Work in groups of 2**\n",
    "\n",
    "## Learning Objectives\n",
    "\n",
    "* familiarize with symbolic python tools\n",
    "* use sympy to compute properties of stellar structure\n",
    "* make estimates of stellar density and comparisons to the Sun"
   ]
  },
  {
   "cell_type": "markdown",
   "metadata": {},
   "source": [
    "````{note}\n",
    "Install sympy via conda using\n",
    "```\n",
    "conda install sympy\n",
    "```\n",
    "````\n",
    "\n",
    "Documentation is available [here](https://docs.sympy.org/latest/install.html)"
   ]
  },
  {
   "cell_type": "code",
   "execution_count": null,
   "metadata": {
    "tags": []
   },
   "outputs": [],
   "source": [
    "from sympy import init_session\n",
    "init_session(use_latex=\"mathjax\")\n",
    "%matplotlib inline"
   ]
  },
  {
   "cell_type": "markdown",
   "metadata": {
    "user_expressions": []
   },
   "source": [
    "## 1. Stellar density profile"
   ]
  },
  {
   "cell_type": "code",
   "execution_count": null,
   "metadata": {
    "tags": []
   },
   "outputs": [],
   "source": [
    "rho = symbols('rho', cls=Function)\n",
    "rhoc = symbols('rho_c')\n",
    "qc = symbols('q_c')\n",
    "Pc = symbols('P_c')\n",
    "G = symbols('G')\n",
    "Mstar, Rstar = symbols('M_\\star R_\\star')\n",
    "r = symbols('r')\n",
    "xi = symbols('xi')\n",
    "mu = symbols('mu')\n",
    "k = symbols('k')\n",
    "m_u = symbols('m_u')"
   ]
  },
  {
   "cell_type": "markdown",
   "metadata": {
    "user_expressions": []
   },
   "source": [
    "Imagine a star has a density profile of the form:\n",
    "\n",
    "$$\\rho(r) = \\rho_c \\left [ 1 - \\left (\\frac{r}{R_\\star} \\right )^3 \\right ]$$\n",
    "\n",
    "where $\\rho_c$ is the central density.\n"
   ]
  },
  {
   "cell_type": "code",
   "execution_count": null,
   "metadata": {
    "tags": []
   },
   "outputs": [],
   "source": [
    "# using the variables above, define this function for density and very its form by outputting the eqn\n",
    "#rho = #"
   ]
  },
  {
   "cell_type": "markdown",
   "metadata": {
    "user_expressions": []
   },
   "source": [
    "> Find an expression for the central density in terms of $R_\\star$ and $M_\\star$.\n",
    "     \n",
    "Recall the formulation for the mass equation\n",
    "\n",
    "$$\n",
    "M(r) = \\int^{r}_{0} 4 \\pi r^2 \\rho dr\n",
    "$$\n",
    "\n",
    "1. First, integrate the mass equation to **find $M(r)$** using [sympys integrate function](https://docs.sympy.org/latest/modules/integrals/integrals.html) evaluated from 0 to $R_\\star$ (defined above).    "
   ]
  },
  {
   "cell_type": "code",
   "execution_count": null,
   "metadata": {
    "tags": []
   },
   "outputs": [],
   "source": [
    "# 1. solution here for M\n",
    "\n",
    "# M = "
   ]
  },
  {
   "cell_type": "markdown",
   "metadata": {},
   "source": [
    "2. Next, we want to **solve for $\\rho_{c}$ by setting $M_\\star$ to the $M$ we computed in 1** using sympys [Solve function](https://docs.sympy.org/latest/modules/solvers/solvers.html#sympy.solvers.solvers.solve).\n",
    "    > Hint: in sympy you can set define an equality using [`Eq` relation function](https://docs.sympy.org/latest/modules/core.html#sympy.core.relational.Eq). \n",
    "    For example to set the LHS of an equation to the RHS, you would write `Eq(LHS,RHS)`."
   ]
  },
  {
   "cell_type": "code",
   "execution_count": null,
   "metadata": {
    "user_expressions": []
   },
   "outputs": [],
   "source": [
    "# solve the equation M = Mstar for rhoc, we will need to name this variable different than we defined above,\n",
    "# such as rhoc_value to distinguish it from the symbolic definition above. \n",
    "rhoc_value = #solve(Eq(# finish here\n",
    "#rhoc_value"
   ]
  },
  {
   "cell_type": "markdown",
   "metadata": {},
   "source": [
    "3. Next, confirm that the average density of this star is $\\bar{\\rho}=0.4\\rho_{c}$, assuming $\\bar{\\rho}=M/V$.\n",
    "\n",
    "> Hint: for fractions in sympy you would use the [Rational function](https://docs.sympy.org/latest/modules/core.html#sympy.core.numbers.Rational)."
   ]
  },
  {
   "cell_type": "code",
   "execution_count": null,
   "metadata": {},
   "outputs": [],
   "source": [
    "# substitute our found rhoc_value expression into our original rho expression here, \n",
    "# then output the function to verify\n",
    "#rhobar = symbols(r\"\\bar{\\rho}\")\n",
    "#rhobar = #\n",
    "#rhobar"
   ]
  },
  {
   "cell_type": "markdown",
   "metadata": {},
   "source": [
    "4. Next, use substition again to plug in the solar radius and mass in cgs and evaluate $\\rho_{c}$ using [evalf](https://docs.sympy.org/latest/modules/core.html#module-sympy.core.evalf) to make an estimate for the central density with the equation we found in 2. "
   ]
  },
  {
   "cell_type": "code",
   "execution_count": null,
   "metadata": {},
   "outputs": [],
   "source": [
    "msun = 2e33    # g\n",
    "rsun = 6.96e10 # cm\n",
    "\n",
    "# compute a numerical value here by substituting in solar radius and mass, then evaluate\n",
    "#rhoc_value = rhoc_value.subs(###).evalf()\n",
    "#rhoc_value"
   ]
  },
  {
   "cell_type": "markdown",
   "metadata": {},
   "source": [
    "6. Confirm that $\\bar{\\rho}\\approx 1.4 \\ (\\rm{g \\ cm}^{-3})$ for this density profile using the numerical value found in 4. and Subs. Similar to the [Sun](https://en.wikipedia.org/wiki/Sun). "
   ]
  },
  {
   "cell_type": "code",
   "execution_count": null,
   "metadata": {},
   "outputs": [],
   "source": [
    "# compute a numerical value for rhobar here for this density profile and the rhoc found above"
   ]
  }
 ],
 "metadata": {
  "kernelspec": {
   "display_name": "Python 3 (ipykernel)",
   "language": "python",
   "name": "python3"
  },
  "language_info": {
   "codemirror_mode": {
    "name": "ipython",
    "version": 3
   },
   "file_extension": ".py",
   "mimetype": "text/x-python",
   "name": "python",
   "nbconvert_exporter": "python",
   "pygments_lexer": "ipython3",
   "version": "3.11.8"
  }
 },
 "nbformat": 4,
 "nbformat_minor": 4
}
