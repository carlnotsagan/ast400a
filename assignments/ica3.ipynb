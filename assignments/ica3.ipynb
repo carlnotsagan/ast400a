{
 "cells": [
  {
   "cell_type": "markdown",
   "id": "d98cf2f3-19b9-402b-9500-b9978572c98a",
   "metadata": {
    "user_expressions": []
   },
   "source": [
    "# In-Class Assignment 3\n",
    "\n",
    "**Credit: These exercises follow from work by Mike Zingale's computational lectures.**\n",
    "\n",
    "**Work in groups of 2**\n",
    "\n",
    "## Learning Objectives\n",
    "* explore EOS regimes\n",
    "* label various EOS regimes\n",
    "* plot stellar models on EOS regimes\n",
    "* compare density profiles esimtates to stellar models\n",
    "\n"
   ]
  },
  {
   "cell_type": "code",
   "execution_count": null,
   "id": "75ae7460-62aa-4938-8540-6cc86840005d",
   "metadata": {
    "tags": []
   },
   "outputs": [],
   "source": [
    "import numpy as np\n",
    "import matplotlib.pyplot as plt\n",
    "import pandas as pd"
   ]
  },
  {
   "cell_type": "markdown",
   "id": "d28a0566-b2ee-4132-95c5-571aa84231ed",
   "metadata": {
    "user_expressions": []
   },
   "source": [
    "Physical constants, all in CGS"
   ]
  },
  {
   "cell_type": "code",
   "execution_count": null,
   "id": "ef489742-6824-4902-8906-6d062c47679d",
   "metadata": {
    "tags": []
   },
   "outputs": [],
   "source": [
    "m_e = 9.11e-28\n",
    "m_u = 1.66e-24\n",
    "c = 3.e10\n",
    "k = 1.38e-16\n",
    "h = 6.63e-27\n",
    "a = 5.67e-15\n",
    "e = 4.8e-10 # esu\n",
    "\n",
    "# crystallization\n",
    "Gamma_C = 170"
   ]
  },
  {
   "cell_type": "markdown",
   "id": "d354f054-ae30-4273-87c2-61400ab71726",
   "metadata": {
    "user_expressions": []
   },
   "source": [
    "## EOS regimes\n",
    "\n",
    "We can look at the $\\rho$-$T$ plane to understand where each of the components of the EOS\n",
    "dominate.\n",
    "\n",
    "Some composition info.  We'll specify\n",
    "\n",
    "$$\\mu_e = \\left [ \\sum_k \\frac{Z_k X_k}{A_k} \\right ]^{-1}$$\n",
    "\n",
    "$$\\mu_I = \\left [ \\sum_k \\frac{X_k}{A_k} \\right ]^{-1}$$\n",
    "\n",
    "and $\\mu$ such that \n",
    "\n",
    "$$\\frac{1}{\\mu} = \\frac{1}{\\mu_e} + \\frac{1}{\\mu_I}$$"
   ]
  },
  {
   "cell_type": "code",
   "execution_count": null,
   "id": "5cf8e9bb-a6f4-479e-9b9e-4b98e0fd5a77",
   "metadata": {
    "tags": []
   },
   "outputs": [],
   "source": [
    "mu_e = 2\n",
    "mu_I = 1.0\n",
    "\n",
    "mu = 1.0 / (1.0/mu_e + 1.0/mu_I)\n",
    "\n",
    "Z = 1.0"
   ]
  },
  {
   "cell_type": "markdown",
   "id": "275309cd-cc66-480b-8fbd-c7d2b4a77966",
   "metadata": {
    "user_expressions": []
   },
   "source": [
    "## Degeneracy vs. Ideal gas\n",
    "\n",
    "We find the (dimensionless) Fermi momentum ($x_F = p_F / (mc)$) via\n",
    "\n",
    "$$n_e = \\frac{\\rho}{\\mu_e m_u} = \\int_0^{x_F} x^2 dx$$\n",
    "\n",
    "where we assume complete degeneracy (so the distribution function is just a step-function).  This gives\n",
    "\n",
    "$$x_F = \\left ( \\frac{\\rho}{\\mu_e B} \\right )^{1/3}$$\n",
    "\n",
    "where the constant $B$ is:\n",
    "\n",
    "$$B = \\frac{8\\pi}{3} m_u \\left (\\frac{m_e c}{h} \\right )^3$$\n",
    "\n",
    "We then define the transition to degeracy by comparing to the thermal energy, $k T$\n",
    "\n",
    "$$E_F = m_e c^2 \\left ( \\sqrt{1 + x_F^2} - 1 \\right ) \\sim k T$$\n",
    "\n",
    "Here's a function that computes this line"
   ]
  },
  {
   "cell_type": "code",
   "execution_count": null,
   "id": "f1ac70e0-c55b-49c7-88c6-f265753806b2",
   "metadata": {
    "tags": []
   },
   "outputs": [],
   "source": [
    "# Fermi momentum constant (from number density integral)\n",
    "B = # \n",
    "\n",
    "def deg_ideal(rho, mu_e=2.0):\n",
    "    \"\"\"temperature on the line separating degeneracy and ideal gas as a function\n",
    " of rho\"\"\"\n",
    "\n",
    "    # dimensionless Fermi momentum\n",
    "    x_F = (rho / mu_e / B)**(1./3.)\n",
    "\n",
    "    # set E_F = k T\n",
    "    T = (1./k) * m_e * c**2 * (np.sqrt(1 + x_F**2) - 1)\n",
    "\n",
    "    return T"
   ]
  },
  {
   "cell_type": "markdown",
   "id": "1f7f3a13-56a4-4f3d-8e9e-c69f72731bae",
   "metadata": {
    "user_expressions": []
   },
   "source": [
    "## Ideal gas vs. radiation\n",
    "\n",
    "A simple way to determine whether an ideal case or radiation dominates is to set their energy densities equal.\n",
    "At the temperatures where we expect this to occur, we will assume that the electrons are not degenerate,\n",
    "so we will use the full $\\mu$ for the composition in the ideal gas instead of $\\mu_I$.\n",
    "\n",
    "Our line is:\n",
    "\n",
    "$$\\frac{\\rho k T}{\\mu m_u} \\sim \\frac{1}{3}a T^4$$\n",
    "\n",
    "Here's a function that computes this"
   ]
  },
  {
   "cell_type": "code",
   "execution_count": null,
   "id": "6b2169f2-7dc1-47b3-ad8f-bc0fabffa87f",
   "metadata": {
    "tags": []
   },
   "outputs": [],
   "source": [
    "def rad_ideal(rho, mu=0.5):\n",
    "    \"\"\"temperature on the line separating radiation and ideal gas as a function \n",
    "of rho\"\"\"\n",
    "\n",
    "    # T = complete here\n",
    "    return T"
   ]
  },
  {
   "cell_type": "markdown",
   "id": "6bded220-45a1-4ea0-b24f-93ef6a50a094",
   "metadata": {
    "user_expressions": []
   },
   "source": [
    "Finally, at low temperatures and high densities, the ions can crystalize.  The comparison where is the thermal energy to the Coulomb energy:\n",
    "\n",
    "$$\\Gamma = \\frac{kT}{Z^2 e^2 / a}$$\n",
    "\n",
    "where we take $\\Gamma = 170$ as the point where crystalization sets in.\n",
    "\n",
    "The separation between ions, $a$ is found via:\n",
    "\n",
    "$$V = n_I^{-1} = \\frac{\\mu_I m_u}{\\rho} = \\frac{4\\pi}{3} a^3$$\n",
    "\n",
    "Putting this together, the expression for the boundary of crystalization is computed below"
   ]
  },
  {
   "cell_type": "code",
   "execution_count": null,
   "id": "a6fd908a-25e2-431d-90d5-d35942187976",
   "metadata": {
    "tags": []
   },
   "outputs": [],
   "source": [
    "def crystallization(rho):\n",
    "    \"\"\"temperature where crystallization of ions sets in\"\"\"\n",
    "\n",
    "    T = ((rho / mu_I) * (Z**2 * e**2 / (Gamma_C * k))**3 * (4.0 * np.pi / 3.0 / \n",
    "m_u))**(1./3.)\n",
    "    return T"
   ]
  },
  {
   "cell_type": "markdown",
   "id": "2d5d1347-9540-4522-b545-b837d9db6a9a",
   "metadata": {
    "user_expressions": []
   },
   "source": [
    "## a. Plotting the boundaries\n",
    "\n",
    "Download the following model files (or reuse them from last time!):\n",
    "\n",
    "* $1 M_\\odot$ history data [M1_default_trimmed_history.data](data/M1_default_trimmed_history.data)\n",
    "\n",
    "* $1 M_\\odot$ - main sequence profile data [M1_default_profile8.data](data/M1_default_profile8.data)\n",
    "\n",
    "\n",
    "    1. Plot and label the three lines defined above. Label the _radiation dominated_, _ideal gas_, the electron degenerate regime (including a line denoting the density from non-relativistic to relativistic regimes), and lastly, label the crystallization regime. "
   ]
  },
  {
   "cell_type": "code",
   "execution_count": null,
   "id": "c8ded215-f027-4cad-b0df-0accb322a605",
   "metadata": {
    "tags": []
   },
   "outputs": [],
   "source": [
    "#rho = np.logspace(-5, 10, 2000)\n",
    "\n",
    "#fig = plt.figure()\n",
    "#ax = fig.add_subplot(111)\n",
    "\n",
    "#ax.plot(rho,##\n",
    "\n",
    "# annotate NR vs ER degeneracy line here\n",
    "#ax.vlines(*\n",
    "\n",
    "\n",
    "#ax.text(1.e-2, 1.e9, \n",
    "\n",
    "# label the location of the Sun here\n",
    "#ax.text(150,#)\n",
    "\n",
    "#ax.set_xscale(\"log\")\n",
    "#ax.set_yscale(\"log\")\n",
    "\n",
    "#ax.set_xlabel(r\"$\\rho$ (g/cc)\")\n",
    "#ax.set_ylabel(\"$T$ (K)\")\n",
    "#ax.grid(ls=\":\")"
   ]
  },
  {
   "cell_type": "markdown",
   "id": "9166e14d",
   "metadata": {},
   "source": [
    "## b. Plotting the boundaries + MESA\n",
    "\n",
    "Here, produce the same plot but overlay the results of the 1M MESA stellar model history data from ICA1. \n",
    "\n",
    "1. load the MESA data using pandas, \n",
    "2. copy the above labelled plot below and plot the 1Msun MESA model on the same plot\n",
    "\n",
    "> Descirbe in a few sentences to trajectory of the 1M stellar model in the diagram. "
   ]
  },
  {
   "cell_type": "code",
   "execution_count": null,
   "id": "e8550446",
   "metadata": {},
   "outputs": [],
   "source": [
    "#one_m_sun_history = pd.read_csv('data/M1_default_trimmed_history.data',sep=r'\\s+',header=4)\n",
    "#one_m_sun.columns"
   ]
  },
  {
   "cell_type": "code",
   "execution_count": null,
   "id": "f7827abb",
   "metadata": {},
   "outputs": [],
   "source": [
    "# obtain density and temperature data here"
   ]
  },
  {
   "cell_type": "code",
   "execution_count": null,
   "id": "57962716",
   "metadata": {},
   "outputs": [],
   "source": [
    "# combined plot here"
   ]
  },
  {
   "cell_type": "markdown",
   "id": "c7b40456",
   "metadata": {},
   "source": [
    "## c. Stellar density profile \n",
    "\n",
    "In ICA2, we made an a stellar density profile of the form:\n",
    "\n",
    "$$\\rho(r) = \\rho_c \\left [ 1 - \\left (\\frac{r}{R_\\star} \\right )^3 \\right ]$$\n",
    "\n",
    "where $\\rho_c$ is the central density.\n",
    "\n",
    "Below we will test if this profile is an appropriate for a 1 solar mass model on the main-sequence. \n",
    "\n",
    "1. load the MESA **profile** data using pandas `M1_default_profile8.data` this is the stellar structure profile on the main-sequence\n",
    "2. next, produce an equation density profile above using the central density from the profile data as well as the max radius for $\\rho_c$ and $R_\\star$.\n",
    "3. Plot both on the same plot then answer the following below.\n",
    "\n",
    "> Descirbe in a few sentences if the analytical profile is appropriate for this stellar model? \n",
    "\n",
    "\n",
    "\n",
    "> Hint: Such analytical or polytropic EOS can be great approximations for stellar structure but typically not for the _entire_ star except for in the cases of fully convective or white dwarf stars - not a star on the MS!\n"
   ]
  },
  {
   "cell_type": "code",
   "execution_count": null,
   "id": "40d278c8",
   "metadata": {},
   "outputs": [],
   "source": [
    "#load `M1_default_profile8.data` profile data here with pandas"
   ]
  },
  {
   "cell_type": "code",
   "execution_count": null,
   "id": "e7bacdbc",
   "metadata": {},
   "outputs": [],
   "source": [
    "# set the radius and density variables here, we only have log rho so youll need to convert!"
   ]
  },
  {
   "cell_type": "code",
   "execution_count": null,
   "id": "211aec59",
   "metadata": {},
   "outputs": [],
   "source": [
    "# compute max / central density here and Rstar or maximum radius here"
   ]
  },
  {
   "cell_type": "code",
   "execution_count": null,
   "id": "fea806b1",
   "metadata": {},
   "outputs": [],
   "source": [
    "# use these above rho_central and Rstar values to define our rho(r) profile from the analytical equation"
   ]
  },
  {
   "cell_type": "code",
   "execution_count": null,
   "id": "9f2d61b3",
   "metadata": {},
   "outputs": [],
   "source": [
    "# finally, plot both on the same plot"
   ]
  },
  {
   "cell_type": "markdown",
   "id": "7b7f0090",
   "metadata": {},
   "source": [
    "> Descirbe in a few sentences if the analytical profile is appropriate for this stellar model? "
   ]
  },
  {
   "cell_type": "markdown",
   "id": "fe738219",
   "metadata": {},
   "source": []
  },
  {
   "cell_type": "code",
   "execution_count": null,
   "id": "68837b5b",
   "metadata": {},
   "outputs": [],
   "source": []
  }
 ],
 "metadata": {
  "kernelspec": {
   "display_name": "Python 3 (ipykernel)",
   "language": "python",
   "name": "python3"
  },
  "language_info": {
   "codemirror_mode": {
    "name": "ipython",
    "version": 3
   },
   "file_extension": ".py",
   "mimetype": "text/x-python",
   "name": "python",
   "nbconvert_exporter": "python",
   "pygments_lexer": "ipython3",
   "version": "3.11.8"
  }
 },
 "nbformat": 4,
 "nbformat_minor": 5
}
