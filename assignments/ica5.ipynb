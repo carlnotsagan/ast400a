{
 "cells": [
  {
   "cell_type": "markdown",
   "metadata": {},
   "source": [
    "# In-Class Assignment 5\n",
    "\n",
    "**Credit: [Mike Zingale](https://github.com/zingale)** for the Polytrope Routines and Notes.\n",
    "\n",
    "## Comparing Polytropes to MESA models\n",
    "\n",
    "### Learning Objectives\n",
    "\n",
    "- explore the relationship between lane-emden solutions and physical variables\n",
    "- identify physics informed polytrope profiles for models of massive stars and white dwarfs"
   ]
  },
  {
   "cell_type": "markdown",
   "metadata": {},
   "source": [
    "## Implementation\n",
    "\n",
    "This is our main class that does the integration.  We initialize it with the polytopic index, and then it will integrate the system for us.  We can then plot it or get\n",
    "the parameters $\\xi_1$ and $-\\xi_1^2 d\\theta/d\\xi |_{\\xi_1}$"
   ]
  },
  {
   "cell_type": "code",
   "execution_count": null,
   "metadata": {},
   "outputs": [],
   "source": [
    "import matplotlib.pyplot as plt\n",
    "import numpy as np\n",
    "import pandas as pd"
   ]
  },
  {
   "cell_type": "code",
   "execution_count": null,
   "metadata": {},
   "outputs": [],
   "source": [
    "class Polytrope:\n",
    "    \"\"\"a polytrope of index n\"\"\"\n",
    "    def __init__(self, n, h0=1.e-2, tol=1.e-12):\n",
    "        self.n = n\n",
    "        self.xi = []\n",
    "        self.theta = []\n",
    "        self.dtheta_dxi = []\n",
    "        \n",
    "        self._integrate(h0, tol)\n",
    "\n",
    "    def _integrate(self, h0, tol):\n",
    "        \"\"\"integrate the Lane-Emden system\"\"\"\n",
    "\n",
    "        # our solution vector q = (y, z)\n",
    "        q = np.zeros(2, dtype=np.float64)\n",
    "        xi = 0.0\n",
    "\n",
    "        h = h0\n",
    "\n",
    "        # initial conditions\n",
    "        q[0] = 1.0\n",
    "        q[1] = 0.0\n",
    "\n",
    "        while h > tol:\n",
    "            # 4th order RK integration -- first find the slopes\n",
    "            k1 = self._rhs(xi, q)\n",
    "            k2 = self._rhs(xi+0.5*h, q+0.5*h*k1)\n",
    "            k3 = self._rhs(xi+0.5*h, q+0.5*h*k2)\n",
    "            k4 = self._rhs(xi+h, q+h*k3)\n",
    "\n",
    "            # now update the solution to the new xi\n",
    "            q += (h/6.0)*(k1 + 2*k2 + 2*k3 + k4)\n",
    "            xi += h\n",
    "\n",
    "            # set the new stepsize--our systems is always convex\n",
    "            # (theta'' < 0), so the intersection of theta' with the\n",
    "            # x-axis will always be a conservative estimate of the\n",
    "            # radius of the star.  Make sure that the stepsize does\n",
    "            # not take us past that.\n",
    "            R_est = xi - q[0]/q[1]\n",
    "\n",
    "            if xi + h > R_est:\n",
    "                h = -q[0]/q[1]\n",
    "\n",
    "            # store the solution:\n",
    "            self.xi.append(xi)\n",
    "            self.theta.append(q[0])\n",
    "            self.dtheta_dxi.append(q[1])\n",
    "\n",
    "        self.xi = np.array(self.xi)\n",
    "        self.theta = np.array(self.theta)\n",
    "        self.dtheta_dxi = np.array(self.dtheta_dxi)\n",
    "\n",
    "    def _rhs(self, xi, q):\n",
    "        \"\"\" the righthand side of the LE system, q' = f\"\"\"\n",
    "\n",
    "        f = np.zeros_like(q)\n",
    "\n",
    "        # y' = z\n",
    "        f[0] = q[1]\n",
    "        \n",
    "        # for z', we need to use the expansion if we are at xi = 0,\n",
    "        # to avoid dividing by 0\n",
    "        if xi == 0.0:\n",
    "            f[1] = (2.0/3.0) - q[0]**self.n\n",
    "        else:\n",
    "            f[1] = -2.0*q[1]/xi - q[0]**self.n\n",
    "\n",
    "        return f\n",
    "\n",
    "    def get_params(self):\n",
    "        \"\"\" return the standard polytrope parameters xi_1,\n",
    "        and [-xi**2 theta']_{xi_1} \"\"\"\n",
    "        xi1 = self.xi[-1]\n",
    "        p2 = -xi1**2 * self.dtheta_dxi[-1]\n",
    "        return xi1, p2"
   ]
  },
  {
   "cell_type": "markdown",
   "metadata": {},
   "source": [
    "## a. Plotting an $n=1$ Polytrope \n",
    "\n",
    "1. Call the `Polytrope` [Class](https://docs.python.org/3/tutorial/classes.html) and obtain the results.\n",
    "2. Plot results for $\\theta_{n}(\\xi)$ ($\\rho(r)/\\rho_{\\rm{c}}$) as a function of the dimensionless radial coordinate $\\xi$.\n",
    "\n",
    "> Hint: You can access the varible of the class by calling the class object followed by `.variable`. For obtaining $\\xi$ that would be `p.xi`.\n",
    "\n",
    "Plot the results of an $n=1$ polytrope."
   ]
  },
  {
   "cell_type": "code",
   "execution_count": null,
   "metadata": {},
   "outputs": [],
   "source": [
    "## 1 result here"
   ]
  },
  {
   "cell_type": "code",
   "execution_count": null,
   "metadata": {},
   "outputs": [],
   "source": [
    "## 2 result here"
   ]
  },
  {
   "cell_type": "markdown",
   "metadata": {},
   "source": [
    "From the readings in HKT 7.1-7.2. We found some of the following relations:\n",
    "\n",
    "Equation 7.20-7.22:\n",
    "\n",
    "\n",
    "$$\n",
    "\\Large\n",
    "\\rho(r) = \\rho_{\\rm{c}}\\theta^{n}(r) \n",
    "$$\n",
    "\n",
    "$$\n",
    "\\Large\n",
    "P(r) =  P_{\\rm{c}} \\theta^{1+n}(r)\n",
    "$$\n",
    "\n",
    "$$\n",
    "\\Large\n",
    "P_{\\rm{c}} =  K \\rho^{1+1/n}_{\\rm{c}} \n",
    "$$\n",
    "\n",
    "and \n",
    "\n",
    "Equation 7.25:\n",
    "\n",
    "$$\n",
    "\\Large\n",
    "r^{2}_{n} = \\frac{(n+1)P_{c}}{4\\pi G \\rho^{2}_{c}}\n",
    "$$\n",
    "\n",
    "and \n",
    "\n",
    "$$\n",
    "\\Large\n",
    "r = r_{n} \\xi\n",
    "$$"
   ]
  },
  {
   "cell_type": "markdown",
   "metadata": {},
   "source": [
    "## b. Using Polytrope to determine the degeneracy regine of a WD MESA model\n",
    "\n",
    "Download the following model files locally. These data were produced using the MESA [`make_co_wd`](https://docs.mesastar.org/en/latest/test_suite/make_co_wd.html) test suite. \n",
    "\n",
    "* $0.6 M_{\\odot}$ WD _profile_ data: [co_wd_profile.data](data/week6/co_wd_profile.data);\n",
    "\n",
    "\n",
    "Then, \n",
    "\n",
    "1. produce a polytrope of index `n` between 1 to 4.\n",
    "2. Load the MESA profile data for analysis.\n",
    "3. compute $P_{\\rm{c}}$ and $\\rho_{\\rm{c}}$ using the central/max values from the MESA model.\n",
    "4. compute `r_n` using the central values from the MESA model \n",
    "5. use `r_n` to compute the physical radius ($r=r_n \\xi$) of the polytrope \n",
    "6. Use $\\rho_{\\rm{c}}$ from the MESA data to compute the density ($\\rho=\\theta_{n}\\rho_{\\rm{c}}$)\n",
    "7. Load the radius $r$ and density $\\rho$ from the MESA data\n",
    "8. plot (and label) them on the same plot as the MESA model from 0 to $r\\approx 1\\times 10^9$ cm.\n",
    "9. try different values of $n$ to determine if the WD is in the _non-relativstic_ or _relativistic_ region.\n",
    "10. Describe in a few sentences your results. "
   ]
  },
  {
   "cell_type": "code",
   "execution_count": null,
   "metadata": {},
   "outputs": [],
   "source": [
    "## 1 results here\n",
    "# produce a polytrope here\n",
    "G = 6.67e-8\n",
    "msun = 2e33    # g\n",
    "rsun = 6.96e10 # cm"
   ]
  },
  {
   "cell_type": "code",
   "execution_count": null,
   "metadata": {},
   "outputs": [],
   "source": [
    "## 2-3 results here\n",
    "#co_wd_profile = pd.read_csv('data/co_wd_profile.data',sep=r'\\s+',header=4)\n",
    "#co_wd_profile.columns"
   ]
  },
  {
   "cell_type": "code",
   "execution_count": null,
   "metadata": {},
   "outputs": [],
   "source": [
    "# 4-6 results here - compute r_n here HKT 7.25, given above for reference"
   ]
  },
  {
   "cell_type": "code",
   "execution_count": null,
   "metadata": {},
   "outputs": [],
   "source": [
    "# 7 results here - it will be in units of Rsun so you will need to convert to cm !"
   ]
  },
  {
   "cell_type": "code",
   "execution_count": null,
   "metadata": {},
   "outputs": [],
   "source": [
    "# 8 results here - plot the converted polytrope data and the raw MESA data"
   ]
  },
  {
   "cell_type": "markdown",
   "metadata": {},
   "source": [
    "Explain in words, which index you found to match best, what this states about the material, and why does the profile differ near the surface?"
   ]
  },
  {
   "cell_type": "markdown",
   "metadata": {},
   "source": [
    "c results here."
   ]
  }
 ],
 "metadata": {
  "kernelspec": {
   "display_name": "Python 3 (ipykernel)",
   "language": "python",
   "name": "python3"
  },
  "language_info": {
   "codemirror_mode": {
    "name": "ipython",
    "version": 3
   },
   "file_extension": ".py",
   "mimetype": "text/x-python",
   "name": "python",
   "nbconvert_exporter": "python",
   "pygments_lexer": "ipython3",
   "version": "3.11.8"
  }
 },
 "nbformat": 4,
 "nbformat_minor": 4
}
