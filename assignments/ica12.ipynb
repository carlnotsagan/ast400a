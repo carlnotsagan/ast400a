{
 "cells": [
  {
   "cell_type": "markdown",
   "metadata": {
    "user_expressions": []
   },
   "source": [
    "# In-Class Assignment 12\n",
    "\n",
    "## Star Formation and the Pre-Main Sequence\n",
    "\n",
    "### Learning Objectives\n",
    "\n",
    "- explore conditions for star formation\n",
    "- compute estimated star formation rates\n",
    "- qualitatively describe the hayashi track, henyey track and pre main-sequence phases"
   ]
  },
  {
   "cell_type": "code",
   "execution_count": null,
   "metadata": {
    "tags": []
   },
   "outputs": [],
   "source": [
    "import numpy as np\n",
    "import matplotlib.pyplot as plt\n",
    "import pandas as pd"
   ]
  },
  {
   "cell_type": "markdown",
   "metadata": {},
   "source": [
    "## a. Jeans ’ mass for an average molecular cloud.\n",
    "\n",
    "### **Individually/with the person next to you**:\n",
    "\n",
    "1. Calculate the density for an average molecular cloud:\n",
    "    * Assume $T=10$ K, $M_{\\rm{cloud}}=1000M_{\\odot}$ and a number density $n$ of ${\\rm{H}_{2}}$ molecules of $n= 1000 (\\rm{cm}^{-3})$. \n",
    "        \n",
    "> Hint: Recall the mean molecular weight $\\mu=\\rho/n m_{\\rm{H}}$.\n",
    "\n",
    "> Hint: What is the mean molecular weight assuming the entire cloud is ${\\rm{H}_{2}}$.\n",
    "\n",
    "2. Using the density from part 1. Compute the Jeans' mass for this cloud in terms of $M_\\odot$."
   ]
  },
  {
   "cell_type": "code",
   "execution_count": null,
   "metadata": {},
   "outputs": [],
   "source": [
    "msun_cgs = 2e33# grams\n",
    "n = 1000       # cm^-3\n",
    "m_H = 1.67e-24 # grams\n",
    "k_B = 1.38e-16 # erg / K\n",
    "G_cgs = 6.67e-8\n",
    "\n",
    "#compute rho"
   ]
  },
  {
   "cell_type": "code",
   "execution_count": null,
   "metadata": {},
   "outputs": [],
   "source": [
    "# compute M_J here "
   ]
  },
  {
   "cell_type": "markdown",
   "metadata": {},
   "source": [
    "### **With your larger group, try to answer the following**:\n",
    "\n",
    "3. Is this cloud _stable_ or _unstable_ according to Jeans' Criterion? That is can it collapse, why or why not?\n",
    "\n",
    "> Your group's thoughtful response.\n",
    "\n",
    "4. Based on your response to part 3. What is the next step in the star formation process for this particular cloud?\n",
    "\n",
    "> Your group's thoughtful response."
   ]
  },
  {
   "cell_type": "markdown",
   "metadata": {},
   "source": [
    "## b. Star Formation Timescale\n",
    "\n",
    "### **Individually/with the person next to you**:\n",
    "\n",
    "1. Calculate the free-fall timescale for the molecular cloud from `a.` in (Myr)\n",
    "\n",
    "$$\n",
    "\\tau_{\\rm{ff,cloud}} \\approx \\left ( \\frac{3\\pi}{32 G \\rho_{\\rm{cloud}}} \\right )^{1/2}\n",
    "$$\n",
    "        "
   ]
  },
  {
   "cell_type": "code",
   "execution_count": null,
   "metadata": {},
   "outputs": [],
   "source": [
    "## compute tau here\n",
    "sec_in_a_year = 3.154e+7"
   ]
  },
  {
   "cell_type": "markdown",
   "metadata": {},
   "source": [
    "### **With your larger group, try to answer the following**:\n",
    "\n",
    "2. Compare the free-fall timescale and compare it to the typical lifetime of a solar-like star. Is it longer, shorter, or about the same?\n",
    "\n",
    "> Your group's thoughtful response."
   ]
  },
  {
   "cell_type": "markdown",
   "metadata": {},
   "source": [
    "## c. The Pre Main-Sequence\n",
    "\n",
    "### **Individually/ with the person next to you**:\n",
    "\n",
    "Download, or reuse from a previous class:\n",
    "\n",
    "* $1 M_\\odot$ history data: [M1_default_trimmed_history.data](data/M1_default_trimmed_history.data);\n",
    "\n",
    "* $3 M_\\odot$ history data: [3m_h_dep_history.data](data/3m_h_dep_history.data);\n",
    "\n",
    "* $5 M_\\odot$ history data: [5m_history.data](data/5m_history.data);\n",
    "\n",
    "Using the all three MESA history data:\n",
    "\n",
    "1. Plot the an HR diagram ($\\textrm{log}T_{\\rm{eff.}}-\\textrm{log}L$) and label each model by their initial mass.\n",
    "\n",
    "2. Label the approximate location of the \"Hayashi track\", the \"Henyey Track\", and the \"Zero-Age Main Sequence\".\n",
    "\n",
    "Hint:  Compare with Pols Figure 9.3 and Example [Henyey Tracks](https://en.wikipedia.org/wiki/Henyey_track#/media/File:PMS_evolution_tracks.svg)"
   ]
  },
  {
   "cell_type": "code",
   "execution_count": null,
   "metadata": {
    "scrolled": false
   },
   "outputs": [],
   "source": [
    "# load data with pandas\n",
    "#one_m_ms_history = pd.read_csv('###',sep=r'\\s+',header=4)\n",
    "#three_m_ms_history = pd.read_csv('###',sep=r'\\s+',header=4)\n",
    "#five_m_ms_history = pd.read_csv('###',sep=r'\\s+',header=4)\n",
    "#list(one_m_ms_history)"
   ]
  },
  {
   "cell_type": "code",
   "execution_count": null,
   "metadata": {},
   "outputs": [],
   "source": [
    "# load variables here\n",
    "\n",
    "# trim the noisy data for this 1m model only via indexing\n",
    "#one_m_ms_history_logTeff = one_m_ms_history['##'][100:300] # log_Teff\n",
    "#one_m_ms_history_logL = one_m_ms_history['##'][100:300] # log_L\n",
    "\n",
    "#three_m_ms_history_logTeff = # log Teff\n",
    "#three_m_ms_history_logL = # log L\n",
    "\n",
    "#five_m_ms_history_logTeff =# log Teff\n",
    "#five_m_ms_history_logL =# log L"
   ]
  },
  {
   "cell_type": "code",
   "execution_count": null,
   "metadata": {},
   "outputs": [],
   "source": [
    "## 1-2 result here\n",
    "#plt.title('MESA Models HR Diagram')\n",
    "\n",
    "#plt.plot(#,label=r'$1M_{\\odot}$')\n",
    "\n",
    "#plt.plot(#,label=r'$3M_{\\odot}$')\n",
    "\n",
    "#plt.plot(#,label=r'$5M_{\\odot}$')\n",
    "\n",
    "\n",
    "\n",
    "#plt.annotate('Hayashi \\n Track', xy=(xloc, yloc),xycoords='data')\n",
    "#plt.annotate('Henyey \\n Track', xy=(xloc, yloc),xycoords='data')\n",
    "#plt.annotate('ZAMS', xy=(xloc, yloc),xycoords='data')\n",
    "\n",
    "\n",
    "#plt.gca().invert_xaxis()\n",
    "\n",
    "#plt.legend()\n",
    "#plt.xlabel(r'$\\rm{log}_{10}~T_{\\rm{eff}}~(\\rm{K})$')\n",
    "#plt.ylabel(r'$\\rm{log}~L \\ (L_{\\odot})$')"
   ]
  },
  {
   "cell_type": "markdown",
   "metadata": {},
   "source": [
    "### **With your larger group, try to answer the following**:\n",
    "\n",
    "3. Based on the plots, which stars spend more time on the Hayashi track, low mass, or high mass? What about the _Henyey track_? Why might this be?\n",
    "\n",
    "> Your group's thoughtful response.\n",
    "\n",
    "4. Why does the location of the ZAMS move as a function of initial mass?\n",
    "\n",
    "> Your group's thoughtful response.\n",
    "\n",
    "5. What might an stellar object that never reaches the main-sequence look like? Is that a star?\n",
    "\n",
    "> Your group's thoughtful response."
   ]
  },
  {
   "cell_type": "code",
   "execution_count": null,
   "metadata": {},
   "outputs": [],
   "source": []
  }
 ],
 "metadata": {
  "kernelspec": {
   "display_name": "Python 3 (ipykernel)",
   "language": "python",
   "name": "python3"
  },
  "language_info": {
   "codemirror_mode": {
    "name": "ipython",
    "version": 3
   },
   "file_extension": ".py",
   "mimetype": "text/x-python",
   "name": "python",
   "nbconvert_exporter": "python",
   "pygments_lexer": "ipython3",
   "version": "3.11.8"
  }
 },
 "nbformat": 4,
 "nbformat_minor": 4
}
