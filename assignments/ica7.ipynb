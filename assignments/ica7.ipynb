{
 "cells": [
  {
   "cell_type": "markdown",
   "metadata": {},
   "source": [
    "# In-Class Assignment 7\n",
    "\n",
    "## Identifying Different Regimes in Solar-like and Non-Solar like Stellar Model\n",
    "\n",
    "### Learning Objectives\n",
    "\n",
    "- explore the stellar structure of a massive star on the main-sequence \n",
    "- determine the radiative diffusion dominated regions\n",
    "- determine where convection dominates\n",
    "- explore opacity profiles in solar models\n",
    "- define core structure in stellar models"
   ]
  },
  {
   "cell_type": "code",
   "execution_count": null,
   "metadata": {},
   "outputs": [],
   "source": [
    "import matplotlib.pyplot as plt\n",
    "import numpy as np\n",
    "import pandas as pd"
   ]
  },
  {
   "cell_type": "markdown",
   "metadata": {},
   "source": [
    "## a. Locating the Radiative Diffusion Dominated Regime in a Massive star\n",
    "\n",
    "Download the following model files locally. These data were produced using the MESA [`20m_ms.data`](https://docs.mesastar.org/en/latest/test_suite/1m_pre_ms_to_wd.html) test suite. \n",
    "\n",
    "* **New** $20.0 M_{\\odot}$ Main-Sequence _profile_ data: [20m_ms.data](data/20m_ms.data);\n",
    "\n",
    "1. Plot the radiative luminosity `lum_rad` divided by the _total_ luminosity `luminosity` as a function of radius (in units of Rsun) using the MESA data.\n",
    "\n",
    "2. Locate the approximate fractional radius and annotate where the $L_{\\rm{rad}}/L<1$ using [`plt.axvline`](https://matplotlib.org/stable/api/_as_gen/matplotlib.pyplot.axvline.html) with a black dashed or dotted line.\n",
    "\n",
    "3. **Describe** in a few sentences the results of your plot and what could be happening in the region where radiation luminosity is non-dominant. Why does this suggest the core is burning convectively? What is different from the 1M model?"
   ]
  },
  {
   "cell_type": "code",
   "execution_count": null,
   "metadata": {},
   "outputs": [],
   "source": [
    "## load MESA data here\n",
    "#massive_star_ms_profile = pd.read_csv('data/20m_ms.data',sep=r'\\s+',header=4)\n",
    "#list(massive_star_ms_profile)"
   ]
  },
  {
   "cell_type": "code",
   "execution_count": null,
   "metadata": {},
   "outputs": [],
   "source": [
    "lsun_cgs = 3.826e33 # erg / sec (1 Lsun)\n",
    "rsun_cgs = 6.96e10  # cm"
   ]
  },
  {
   "cell_type": "code",
   "execution_count": null,
   "metadata": {},
   "outputs": [],
   "source": [
    "# obtain mesa variables here\n",
    "#massive_star_ms_radius_cm = massive_star_ms_profile['#\n",
    "#massive_star_ms_lum_cgs = massive_star_ms_profile['#\n",
    "#massive_star_ms_lum_rad_cgs = massive_star_ms_profile['#"
   ]
  },
  {
   "cell_type": "code",
   "execution_count": null,
   "metadata": {},
   "outputs": [],
   "source": [
    "## 1-2 result here\n",
    "#plt.plot(massive_star_ms_radius_cm/rsun_cgs,###,label=r'$L_{rad}/L$')\n",
    "#plt.axvline(##,color='k',ls='--')\n",
    "#plt.legend()\n",
    "#plt.xlabel(r'$r/R_{\\odot}$')\n",
    "#plt.ylabel(r'$l/l_{\\rm{tot}}$')"
   ]
  },
  {
   "cell_type": "markdown",
   "metadata": {},
   "source": [
    "## 3 result here in words\n",
    "\n",
    "\n",
    "$\\ldots$"
   ]
  },
  {
   "cell_type": "markdown",
   "metadata": {},
   "source": [
    "## b. Locating the Non-Diffusion Dominated Regime in a Massive star\n",
    "\n",
    "Using the same MESA data:\n",
    "\n",
    "1. Next, compute the radial radiative flux ($F_{\\rm{rad}}$) and the total convective flux ($F_{\\rm{conv}}$) as a function of radius (in units of Rsun) and plot them on the same plot and [**label**](https://www.w3schools.com/python/matplotlib_labels.asp). Normalize both fluxes by their maximum values for comparison using `max()`. Make sure to use cgs!\n",
    "\n",
    ">Hint: Use our relation for the Flux where $F=l~/4\\pi r^2$,\n",
    "\n",
    "2. On this same plot, again label the approximate location where $F_{\\rm{rad}}$ < $F_{\\rm{conv}}$ in this case.\n",
    "\n",
    "This plot suggests we transition from radiation diffusion dominated to convection dominated in the core. \n",
    "\n",
    "3. Confirm this result by plotting our opacity $\\kappa$ as a function of radius on a seperate plot. On this same plot, compute an analytical estimate for $\\kappa_{\\rm{es}}$ and $\\kappa_{\\rm{bf}}$ using the MESA data for $Z$,$\\rho$,$T$, etc. \n",
    "\n",
    "\n",
    ">Hint:\n",
    "\n",
    "$$\n",
    "\\kappa_\\mathrm{es} = \\frac{\\sigma_{\\rm{e}}}{\\mu_{e}m_{u}} = 0.2(1+X)\\ \\ ,\n",
    "$$\n",
    "\n",
    "$$\n",
    "\\kappa_{\\rm{bf}}\\approx 4.3\\times10^{25}(1+X) Z \\rho T^{-7/2}\n",
    "$$\n",
    "\n",
    "\n",
    "\n",
    "4. Use this plot to determine the dominant source of opacity in the core of a massive star on the main-sequence and **describe** that in a few sentences."
   ]
  },
  {
   "cell_type": "code",
   "execution_count": null,
   "metadata": {},
   "outputs": [],
   "source": [
    "# 1 result here - be sure to convert to CGS before computing the Flux!\n",
    "#massive_star_ms_lum_conv_cgs = massive_star_ms_profile['lum_conv'] * lsun_cgs\n",
    "#massive_star_ms_flux = massive_star_ms_lum_cgs / (4 * np.pi * ##)\n",
    "#massive_star_ms_flux_rad = massive_star_ms_lum_rad_cgs / ##\n",
    "#massive_star_ms_flux_conv = massive_star_ms_lum_conv_cgs /##"
   ]
  },
  {
   "cell_type": "code",
   "execution_count": null,
   "metadata": {},
   "outputs": [],
   "source": [
    "# plot the fluxes here \n",
    "#plt.plot(##,label=r'$F_{rad}$')\n",
    "#plt.plot(##,label=r'$F_{conv}$')\n",
    "#plt.axvline(##,color='k',ls='--')\n",
    "#plt.legend()"
   ]
  },
  {
   "cell_type": "code",
   "execution_count": null,
   "metadata": {},
   "outputs": [],
   "source": [
    "# obtain opacity here\n",
    "#massive_star_ms_kappa = massive_star_ms_profile['##\n",
    "#massive_star_ms_h1 = massive_star_ms_profile[###] # X\n",
    "#massive_star_ms_Z = massive_star_ms_profile['z_mass_fraction_metals']\n",
    "#massive_star_ms_Rho = ##\n",
    "#massive_star_ms_T = ##\n",
    "\n",
    "#kappa_bf = ##\n",
    "#kappa_es = ##\n",
    "\n",
    "\n"
   ]
  },
  {
   "cell_type": "code",
   "execution_count": null,
   "metadata": {
    "scrolled": false
   },
   "outputs": [],
   "source": [
    "# plot kappa here \n",
    "#plt.plot(massive_star_ms_radius_cm/rsun_cgs,##,label='$\\kappa$')\n",
    "#plt.plot(massive_star_ms_radius_cm/rsun_cgs,##,label='$\\kappa_{bf}$')\n",
    "#plt.plot(massive_star_ms_radius_cm/rsun_cgs,##,label='$\\kappa_{es}$')\n",
    "\n",
    "#plt.ylim(0,1)\n",
    "#plt.legend()"
   ]
  },
  {
   "cell_type": "markdown",
   "metadata": {},
   "source": [
    "### b 4 result here in words\n",
    "\n",
    "$\\ldots$"
   ]
  },
  {
   "cell_type": "markdown",
   "metadata": {},
   "source": [
    "## c. Defining a Core-Boundary in a Massive star\n",
    "\n",
    "Using the same MESA data:\n",
    "\n",
    "1. Reproduce your Flux plots from part B.2.\n",
    "\n",
    "Our goal is to add a few more things to this plot. \n",
    "\n",
    "2. Plot the normalized nuclear energy generation as a function of radius (in units of Rsun) on the same plot and label.\n",
    "\n",
    "3. On the same plot, plot the normalized convective velocity `conv_vel`.\n",
    "\n",
    "4. Then, use that to determine the approximate location where $\\epsilon_{\\rm{nuc,normalized}}\\rightarrow0$, we will define this as the edge of the hydrogen burning core. \n",
    "\n",
    "5. Lastly, annotate the three regions on the same plot, 'core', 'radiative', and 'convective' using annotate.\n"
   ]
  },
  {
   "cell_type": "code",
   "execution_count": null,
   "metadata": {},
   "outputs": [],
   "source": [
    "# obtain eps nuc and conv_vel\n",
    "#massive_star_ms_eps_nuc = #massive_star_ms_profile['##\n",
    "#massive_star_ms_conv_vel = #massive_star_ms_profile['##"
   ]
  },
  {
   "cell_type": "code",
   "execution_count": null,
   "metadata": {},
   "outputs": [],
   "source": [
    "\n",
    "# plot everything combined and annotated\n",
    "#plt.plot(massive_star_ms_radius_cm/rsun_cgs,\n",
    "#         ##,\n",
    "#         label=r'$F_{rad}$')\n",
    "\n",
    "#plt.plot(massive_star_ms_radius_cm/rsun_cgs,\n",
    "#         ##,\n",
    "#         label=r'$F_{conv}$')\n",
    "\n",
    "#plt.plot(massive_star_ms_radius_cm/rsun_cgs,\n",
    "#         ##,\n",
    "#         label=r'$\\epsilon_{\\rm{nuc}}$')\n",
    "\n",
    "#plt.plot(massive_star_ms_radius_cm/rsun_cgs,\n",
    "#         ##,\n",
    "#         label=r'$v_{\\rm{conv}}$')\n",
    "\n",
    "#plt.axvline(##,color='k',ls='--')\n",
    "#plt.annotate('convective core',xy=(##))\n",
    "#plt.annotate('radiative',xy=(##))\n",
    "#plt.ylabel('Normalized Variable')\n",
    "#plt.title('20Msun Massive Star on Main-Sequence')\n",
    "#plt.xlabel('r/Rsun')\n",
    "#plt.legend()"
   ]
  },
  {
   "cell_type": "markdown",
   "metadata": {},
   "source": [
    "## d. (Bonus) Locating the Non-Diffusion Dominated Regime in a Solar-like star\n",
    "\n",
    "Using the same MESA data from the last class: \n",
    "\n",
    "\n",
    "* **New** $1.0 M_{\\odot}$ Main-Sequence _profile_ data: [1m_pre_ms_to_wd.data](data/1m_pre_ms_to_wd.data);\n",
    "\n",
    "1. Plot opacity $\\kappa$ as a function of radius on a seperate plot. On this same plot, compute an analytical estimate for $\\kappa_{\\rm{es}}$ and $\\kappa_{\\rm{bf}}$, and $\\kappa_{\\rm{ff}}$ using the MESA data for $Z$,$\\rho$,$T$, etc. \n",
    "\n",
    "\n",
    ">Hint:\n",
    "\n",
    "$$\n",
    "\\kappa_\\mathrm{es} = \\frac{\\sigma_{\\rm{e}}}{\\mu_{e}m_{u}} = 0.2(1+X)\\ \\ ,\n",
    "$$\n",
    "\n",
    "$$\n",
    "\\kappa_{\\rm{bf}}\\approx 4.3\\times10^{25}(1+X) Z \\rho T^{-7/2}\n",
    "$$\n",
    "\n",
    "$$\n",
    "\\kappa_{\\rm{ff}}\\propto \\rho T^{-7/2} \\approx 3.8\\times10^{22}(1+X)\\rho T^{-7/2}\n",
    "$$\n",
    "\n",
    "\n",
    "\n",
    "> Hint: use `plt.ylim(0,30)` to zoom in.\n",
    "\n",
    "\n",
    "2. Use this plot to determine the dominant source of opacity in a solar-like star.\n"
   ]
  },
  {
   "cell_type": "code",
   "execution_count": null,
   "metadata": {},
   "outputs": [],
   "source": [
    "#massive_star_ms_profile = pd.read_csv('data/1m_pre_ms_to_wd.data',sep=r'\\s+',header=4)"
   ]
  },
  {
   "cell_type": "code",
   "execution_count": null,
   "metadata": {},
   "outputs": [],
   "source": [
    "# obtain opacity here\n",
    "#massive_star_ms_radius_cm = massive_star_ms_profile['##\n",
    "#massive_star_ms_kappa = massive_star_ms_profile['##\n",
    "#massive_star_ms_h1 = massive_star_ms_profile['##\n",
    "#massive_star_ms_Z = massive_star_ms_profile['##\n",
    "\n",
    "#kappa_bf = #\n",
    "#kappa_ff = #\n",
    "#kappa_es = #\n"
   ]
  },
  {
   "cell_type": "code",
   "execution_count": null,
   "metadata": {},
   "outputs": [],
   "source": [
    "# plot kappa here \n",
    "#plt.plot(massive_star_ms_radius_cm/rsun_cgs,##,label='$\\kappa$')\n",
    "#plt.plot(massive_star_ms_radius_cm/rsun_cgs,##,label='$\\kappa_{bf}$')\n",
    "#plt.plot(massive_star_ms_radius_cm/rsun_cgs,##,label='$\\kappa_{ff}$')\n",
    "#plt.plot(massive_star_ms_radius_cm/rsun_cgs,##,label='$\\kappa_{es}$')\n",
    "\n",
    "#plt.ylim(0,30)\n",
    "#plt.axvline(0.70,color='k',ls='--')\n",
    "#plt.axvline(0.24,color='k',ls='--')\n",
    "#plt.legend()"
   ]
  },
  {
   "cell_type": "code",
   "execution_count": null,
   "metadata": {},
   "outputs": [],
   "source": []
  }
 ],
 "metadata": {
  "kernelspec": {
   "display_name": "Python 3 (ipykernel)",
   "language": "python",
   "name": "python3"
  },
  "language_info": {
   "codemirror_mode": {
    "name": "ipython",
    "version": 3
   },
   "file_extension": ".py",
   "mimetype": "text/x-python",
   "name": "python",
   "nbconvert_exporter": "python",
   "pygments_lexer": "ipython3",
   "version": "3.11.8"
  }
 },
 "nbformat": 4,
 "nbformat_minor": 4
}
