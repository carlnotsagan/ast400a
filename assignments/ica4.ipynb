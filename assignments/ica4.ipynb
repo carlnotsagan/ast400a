{
 "cells": [
  {
   "cell_type": "markdown",
   "metadata": {
    "user_expressions": []
   },
   "source": [
    "# In-Class Assignment 4\n",
    "\n",
    "**Credit: These exercises follow from work by Mike Zingale's computational lectures.**\n",
    "\n",
    "## Learning Objectives\n",
    "\n",
    "* building stellar models using approximations\n",
    "* determine stellar properties assuming ideal gas \n",
    "* compare qualitatively to stellar models on the main-sequence"
   ]
  },
  {
   "cell_type": "markdown",
   "metadata": {
    "user_expressions": []
   },
   "source": [
    "We will be picking up from ICA2. These exercises require the solutions from ICA2 and are included here. "
   ]
  },
  {
   "cell_type": "code",
   "execution_count": null,
   "metadata": {
    "tags": []
   },
   "outputs": [],
   "source": [
    "import pandas as pd\n",
    "from sympy import init_session\n",
    "init_session(use_latex=\"mathjax\")\n",
    "%matplotlib inline"
   ]
  },
  {
   "cell_type": "markdown",
   "metadata": {
    "user_expressions": []
   },
   "source": [
    "## stellar model"
   ]
  },
  {
   "cell_type": "code",
   "execution_count": null,
   "metadata": {
    "tags": []
   },
   "outputs": [],
   "source": [
    "rho = symbols('rho', cls=Function)\n",
    "rhoc = symbols('rho_c')\n",
    "qc = symbols('q_c')\n",
    "Pc = symbols('P_c')\n",
    "G = symbols('G')\n",
    "Mstar, Rstar = symbols('M_\\star R_\\star')\n",
    "r = symbols('r')\n",
    "xi = symbols('xi')\n",
    "mu = symbols('mu')\n",
    "k = symbols('k')\n",
    "m_u = symbols('m_u')"
   ]
  },
  {
   "cell_type": "markdown",
   "metadata": {
    "user_expressions": []
   },
   "source": [
    "Imagine a star has a density profile of the form:\n",
    "\n",
    "$$\\rho(r) = \\rho_c \\left [ 1 - \\left (\\frac{r}{R_\\star} \\right )^3 \\right ]$$\n",
    "\n",
    "where $\\rho_c$ is the central density.\n"
   ]
  },
  {
   "cell_type": "code",
   "execution_count": null,
   "metadata": {
    "tags": []
   },
   "outputs": [],
   "source": [
    "rho = rhoc * (1 - (r/Rstar)**3)\n",
    "rho"
   ]
  },
  {
   "cell_type": "markdown",
   "metadata": {
    "user_expressions": []
   },
   "source": [
    "We found expression for the central density in terms of\n",
    "     $R_\\star$ and $M_\\star$.\n"
   ]
  },
  {
   "cell_type": "code",
   "execution_count": null,
   "metadata": {
    "tags": []
   },
   "outputs": [],
   "source": [
    "M = integrate(4*pi*r**2*rho, (r, 0, Rstar))\n",
    "M"
   ]
  },
  {
   "cell_type": "code",
   "execution_count": null,
   "metadata": {
    "user_expressions": []
   },
   "outputs": [],
   "source": [
    "rhoc_value = solve(Eq(M, Mstar), rhoc)[0]\n",
    "rhoc_value"
   ]
  },
  {
   "cell_type": "code",
   "execution_count": null,
   "metadata": {
    "tags": []
   },
   "outputs": [],
   "source": [
    "# replace our original rho(r) equation with our computed value of rhoc\n",
    "rho = rho.subs(rhoc, rhoc_value)\n",
    "rho"
   ]
  },
  {
   "cell_type": "markdown",
   "metadata": {
    "user_expressions": []
   },
   "source": [
    "### 1. - Computing Central Pressure \n",
    "\n",
    "\n",
    "Our goal is to find an equation for the pressure as a function of radius $P(r)$ using the above $\\rho(r)$ we computed. \n",
    "\n",
    "Recall our equation for hydrostatic equilibrium (HSE):\n",
    "\n",
    "$$\n",
    "\\frac{dP}{dr} = - \\rho (r) g (r)\n",
    "$$\n",
    "\n",
    "where \n",
    "\n",
    "$$\n",
    "g(r) = - \\frac{G M(r)}{r^2}\n",
    "$$\n",
    "\n",
    "Also assume that the pressure vanishes at the surface $P(R_\\star)\\rightarrow0$.\n",
    "\n",
    "\n",
    "Your answer will be in the form of $P(r) = P_c \\times$\n",
    "    (polynomial in $r/R_\\star$).  \n",
    "    \n",
    "1. Integrate our mass equation now from 0 to some radius $r$ (as opposed to 0 to $R_\\star$ when looking for $\\rho_{c}$). This should give us $M(r)$.\n",
    "    \n",
    "2. Compute $P(r)$ in terms of $M_\\star$ and $R_\\star$ by integrating our HSE equation from 0 to $R_\\star$.\n",
    "    \n",
    "3. Solve for $P_c$ by setting $P(R_\\star)=0$.\n",
    "\n",
    "4. Compute a numerical value for $P_c$ by substituting in values for $M_\\star$ and $R_\\star$ and compare to the Sun's central pressure of about $2\\times10^{17} \\ (\\rm{dyne} \\ \\rm{cm}^{-2})$.\n",
    "\n",
    "5. Plot the resulting pressure profile $P(r)$ by defining a new function $z=P(r)/P_c$, then substitute ($r$ for a fractional radius of the total radius $R_\\star$ as $\\xi \\times R_\\star$). Run the cells to plot the result.\n",
    "\n"
   ]
  },
  {
   "cell_type": "code",
   "execution_count": null,
   "metadata": {
    "tags": []
   },
   "outputs": [],
   "source": [
    "# compute M(r) from 0 to r here\n",
    "#M = integrate(#\n",
    "#M"
   ]
  },
  {
   "cell_type": "code",
   "execution_count": null,
   "metadata": {},
   "outputs": [],
   "source": [
    "# compute P(r) in terms from of Mstar and Rstar by integrating from 0 to Rstar\n",
    "#P = Pc + integrate(#\n",
    "#P"
   ]
  },
  {
   "cell_type": "code",
   "execution_count": null,
   "metadata": {},
   "outputs": [],
   "source": [
    "# solve for Pc by setting P=0\n",
    "#Pc = solve(Eq#)[0]\n",
    "#Pc"
   ]
  },
  {
   "cell_type": "code",
   "execution_count": null,
   "metadata": {},
   "outputs": [],
   "source": [
    "msun = 2e33    # g\n",
    "rsun = 6.96e10 # cm\n",
    "G_cgs = 6.67e-8\n",
    "\n",
    "# compute a numercal value for Pc here\n",
    "#Pc.subs(##).evalf()"
   ]
  },
  {
   "cell_type": "code",
   "execution_count": null,
   "metadata": {
    "tags": []
   },
   "outputs": [],
   "source": [
    "# now, find a general expression for pressure by passing Pc computed above and integrating HSE from 0 to r\n",
    "#P = Pc + integrate(#\n",
    "#P"
   ]
  },
  {
   "cell_type": "code",
   "execution_count": null,
   "metadata": {},
   "outputs": [],
   "source": [
    "# run these cells below to view our pressure profile. \n",
    "#z = simplify((P/Pc).subs(r, xi*Rstar))\n",
    "#plot(z, (xi, 0, 1), xlabel=r\"$r/R_\\star$\", ylabel=r\"$P(r)/P_{c}$\")"
   ]
  },
  {
   "cell_type": "markdown",
   "metadata": {},
   "source": [
    "### 2. - Computing Central Temperature\n",
    "\n",
    "The central temperature, assuming the ideal gas law, is:\n",
    "\n",
    "$$T_c = \\frac{\\mu m_u P_c}{\\rho_c k}$$\n",
    "\n",
    "For our density profile this should be\n",
    "\n",
    "$$T_c = \\frac{21}{40} \\frac{G M_\\star}{R_\\star} \\frac{\\mu m_u}{k}$$\n",
    "\n",
    "while for the constant density model, the coefficient was 1/2.\n",
    "\n",
    "1. Compute $T_c$ symbolically and confirm the coefficient 21/40.\n",
    "\n",
    "2. Compute a numerical value for the central temperature and compare to the central temperature of the Sun. \n",
    "\n",
    "3. "
   ]
  },
  {
   "cell_type": "markdown",
   "metadata": {},
   "source": [
    "Okay great, but we still need to know the composition before we can compute the temperature. \n",
    "\n",
    "We'll look at two choices here:"
   ]
  },
  {
   "cell_type": "code",
   "execution_count": null,
   "metadata": {},
   "outputs": [],
   "source": [
    "# compute Tc here and confirm the prefactor - passing Pc and rhoc_value\n",
    "#Tc = \n",
    "#Tc"
   ]
  },
  {
   "cell_type": "markdown",
   "metadata": {},
   "source": [
    "i. pure H composition has $\\mu = 1/2$, compute $T_{c}$ for this composition."
   ]
  },
  {
   "cell_type": "code",
   "execution_count": null,
   "metadata": {},
   "outputs": [],
   "source": [
    "mu_cgs = 0.5\n",
    "m_u_cgs = 1.66e-24\n",
    "k_cgs = 1.38e-16\n",
    "\n",
    "#Tc.subs(Mstar, ).subs(mu,mu_cgs).evalf()/1e7 # units of 10^7 K"
   ]
  },
  {
   "cell_type": "markdown",
   "metadata": {},
   "source": [
    "ii. pure He composition has $\\mu = 4/3$"
   ]
  },
  {
   "cell_type": "code",
   "execution_count": null,
   "metadata": {},
   "outputs": [],
   "source": [
    "# compute Tc here for this composition\n",
    "mu_cgs = 4/3.\n",
    "\n",
    "#Tc.subs(##).evalf()/1e7"
   ]
  },
  {
   "cell_type": "markdown",
   "metadata": {},
   "source": [
    "The central pressure for the constant-density model (HKT 1.39) was\n",
    "\n",
    "$$P_c = \\frac{3}{8\\pi} \\frac{GM_\\star^2}{R_\\star^4}$$\n",
    "\n",
    "Here, with the cubic density profile, we find \n",
    "\n",
    "$$P_c = \\frac{63}{80\\pi} \\frac{G M_\\star^{2}}{R_\\star^{4}}$$\n",
    "\n",
    "The pressure is greater in this model because more mass is concentrated toward the center of the star, increasing the force of gravity throughout, making the outer layers weigh more.\n",
    "\n",
    "The temperature is the _almost the same_ in both models, since both the central pressure and central density increase by the here.\n",
    "\n",
    "Let's evaluate $P_c/\\rho_c$ for our model"
   ]
  },
  {
   "cell_type": "markdown",
   "metadata": {},
   "source": [
    "### 3. Comparing the Pressure Profiles to a MS stellar model\n",
    "\n",
    "1. load the MESA data using pandas, \n",
    "2. retrieve the radius and pressure profiles\n",
    "3. compute the max / central pressure\n",
    "4. plot the MESA data $r/R_\\star$ vs $P(r)/P_c$ and compare directly to our plot for these data using our approximate density profile\n",
    "5. comment briefly on the difference of the two profiles and think what might be contributing to the difference"
   ]
  },
  {
   "cell_type": "code",
   "execution_count": null,
   "metadata": {},
   "outputs": [],
   "source": [
    "#one_m_sun_ms = pd.read_csv('data/M1_default_profile8.data',sep=r'\\s+',header=4)\n",
    "#one_m_sun_ms.columns"
   ]
  },
  {
   "cell_type": "code",
   "execution_count": null,
   "metadata": {},
   "outputs": [],
   "source": [
    "#one_m_sun_radius_ms = one_m_sun_ms[#\n",
    "#one_m_sun_pressure_ms = one_m_sun_ms[#"
   ]
  },
  {
   "cell_type": "code",
   "execution_count": null,
   "metadata": {},
   "outputs": [],
   "source": [
    "#one_m_sun_Pc = max(\n",
    "#one_m_sun_Rstar = max("
   ]
  },
  {
   "cell_type": "code",
   "execution_count": null,
   "metadata": {},
   "outputs": [],
   "source": [
    "#plt.plot(##)\n",
    "#plt.xlabel('$r/R_\\star$');plt.ylabel(r'$P(r)/P_c$')\n",
    "#plot(z,(xi, 0, 1), xlabel=r\"$r/R_\\star$\", ylabel=r\"$P(r)$\")"
   ]
  },
  {
   "cell_type": "markdown",
   "metadata": {},
   "source": [
    "comment on the difference for the two pressure profiles here..."
   ]
  }
 ],
 "metadata": {
  "kernelspec": {
   "display_name": "Python 3 (ipykernel)",
   "language": "python",
   "name": "python3"
  },
  "language_info": {
   "codemirror_mode": {
    "name": "ipython",
    "version": 3
   },
   "file_extension": ".py",
   "mimetype": "text/x-python",
   "name": "python",
   "nbconvert_exporter": "python",
   "pygments_lexer": "ipython3",
   "version": "3.11.8"
  }
 },
 "nbformat": 4,
 "nbformat_minor": 4
}
