{
 "cells": [
  {
   "cell_type": "markdown",
   "metadata": {},
   "source": [
    "# In-Class Assignment 6\n",
    "\n",
    "## Identifying Different Regimes in Solar-like Stellar Model\n",
    "\n",
    "### Learning Objectives\n",
    "\n",
    "- explore the stellar structure of a solar-like star on the main-sequence \n",
    "- determine the radiative diffusion dominated regions\n",
    "- determine where convection dominates\n",
    "- explore opacity profiles in solar models\n",
    "- define core structure in stellar models"
   ]
  },
  {
   "cell_type": "code",
   "execution_count": null,
   "metadata": {},
   "outputs": [],
   "source": [
    "import matplotlib.pyplot as plt\n",
    "import numpy as np\n",
    "import pandas as pd"
   ]
  },
  {
   "cell_type": "markdown",
   "metadata": {},
   "source": [
    "## a. Locating the Radiative Diffusion Dominated Regime in a Solar-like star\n",
    "\n",
    "Download the following model files locally. These data were produced using the MESA [`1m_pre_ms_to_wd`](https://docs.mesastar.org/en/latest/test_suite/1m_pre_ms_to_wd.html) test suite. \n",
    "\n",
    "* **New** $1.0 M_{\\odot}$ Main-Sequence _profile_ data: [1m_pre_ms_to_wd.data](data/1m_pre_ms_to_wd.data);\n",
    "\n",
    "1. Plot the radius (in units of Rsun) versus the radiative luminosity `lum_rad` divided by the _total_ luminosity `luminosity` using the MESA data.\n",
    "\n",
    "2. Locate the approximate fractional radius and annotate where the $L_{\\rm{rad}}/L<1$ using [`plt.axvline`](https://matplotlib.org/stable/api/_as_gen/matplotlib.pyplot.axvline.html) with a black dashed or dotted line.\n",
    "\n",
    ">Hint: this value in the Sun is about 72% in [Solar calibration models](https://iopscience.iop.org/article/10.3847/1538-4357/ad4355)\n",
    "\n",
    "3. **Describe** in a few sentences the results of your plot and what could be happening in the region where radiation luminosity is non-dominant."
   ]
  },
  {
   "cell_type": "code",
   "execution_count": null,
   "metadata": {},
   "outputs": [],
   "source": [
    "## load MESA data here\n",
    "#one_msun_ms_profile = pd.read_csv('data/1m_pre_ms_to_wd.data',sep=r'\\s+',header=4)\n",
    "#one_msun_ms_profile.columns"
   ]
  },
  {
   "cell_type": "code",
   "execution_count": null,
   "metadata": {},
   "outputs": [],
   "source": [
    "lsun_cgs = 3.826e33 # erg / sec (1 Lsun)\n",
    "rsun_cgs = 6.96e10  # cm"
   ]
  },
  {
   "cell_type": "code",
   "execution_count": null,
   "metadata": {},
   "outputs": [],
   "source": [
    "# obtain mesa variables here\n",
    "#one_msun_ms_radius_cm = one_msun_ms_profile['###\n",
    "#one_msun_ms_lum_cgs = one_msun_ms_profile['##\n",
    "#one_msun_ms_lum_rad_cgs = one_msun_ms_profile['###"
   ]
  },
  {
   "cell_type": "code",
   "execution_count": null,
   "metadata": {},
   "outputs": [],
   "source": [
    "## 1-2 result here\n",
    "#plt.plot(##,label=r'$L_{rad}/L$')\n",
    "#plt.axvline(###,color='k',ls='--')\n",
    "#plt.legend()\n",
    "#plt.xlabel(##)"
   ]
  },
  {
   "cell_type": "markdown",
   "metadata": {},
   "source": [
    "## 3 result here in words\n",
    "\n",
    "\n",
    "$\\ldots$"
   ]
  },
  {
   "cell_type": "markdown",
   "metadata": {},
   "source": [
    "## b. Locating the Non-Diffusion Dominated Regime in a Solar-like star\n",
    "\n",
    "Using the same MESA data:\n",
    "\n",
    "1. Next, compute the radial radiative flux ($F_{\\rm{rad}}$) and the total convective flux ($F_{\\rm{conv}}$) as a function of radius (in units of Rsun) and plot them on the same plot and [**label**](https://www.w3schools.com/python/matplotlib_labels.asp). Normalize both fluxes by their maximum values for comparison using `max()`. Make sure to use cgs!\n",
    "\n",
    ">Hint: Use our relation for the Flux where $F=l~/4\\pi r^2$,\n",
    "\n",
    "2. On this same plot, again label the approximate location where $F_{\\rm{rad}}$ < $F_{\\rm{conv}}$ in this case.\n",
    "\n",
    "This plot suggests we transition from radiation diffusion dominated to convection dominated in the outer region. \n",
    "\n",
    "3. Confirm this result by plotting our opacity $\\kappa$ as a function of radius on a seperate. Due to the large range of this value limit of `plt.ylim(0,30)`. \n",
    "\n",
    "> Hint: From the terminal you can open mesa data using the command `less -S 1m_ms_profile.data` then you can tab left and right to see which variables are available. $\\kappa$ is `opacity` in this case.\n",
    "\n",
    "4. **Describe** in a few words what this change in opacity might suggest to help or hurt the onset of convective energy transfer?"
   ]
  },
  {
   "cell_type": "code",
   "execution_count": null,
   "metadata": {},
   "outputs": [],
   "source": [
    "# 1 result here - be sure to convert to CGS before computing the Flux!\n",
    "#one_msun_ms_lum_conv_cgs =##\n",
    "#one_msun_ms_flux = one_msun_ms_lum_cgs ##"
   ]
  },
  {
   "cell_type": "code",
   "execution_count": null,
   "metadata": {},
   "outputs": [],
   "source": [
    "# plot the fluxes here \n",
    "#plt.plot(##,label=r'$F_{rad}$')\n",
    "#plt.plot(##,label=r'$F_{conv}$')\n",
    "#plt.axvline(##,color='k',ls='--')\n",
    "#plt.legend()"
   ]
  },
  {
   "cell_type": "code",
   "execution_count": null,
   "metadata": {},
   "outputs": [],
   "source": [
    "# obtain opacity here\n",
    "#one_msun_ms_kappa =# "
   ]
  },
  {
   "cell_type": "code",
   "execution_count": null,
   "metadata": {},
   "outputs": [],
   "source": [
    "# plot kappa here \n",
    "#plt.plot(#,label='$\\kappa$')\n",
    "#plt.ylim(#)\n",
    "#plt.axvline(##,color='k',ls='--')\n",
    "#plt.axvline(##,color='k',ls='--')\n",
    "#plt.legend()"
   ]
  },
  {
   "cell_type": "markdown",
   "metadata": {},
   "source": [
    "### b 4 result here in words\n",
    "\n",
    "$\\ldots$"
   ]
  },
  {
   "cell_type": "markdown",
   "metadata": {},
   "source": [
    "## c. Defining a Core-Boundary in a Solar-Like star\n",
    "\n",
    "Using the same MESA data:\n",
    "\n",
    "1. Reproduce your Flux plots from part B.2.\n",
    "\n",
    "Our goal is to add a few more things to this plot. \n",
    "\n",
    "2. Plot the normalized nuclear energy generation as a function of radius (in units of Rsun) on the same plot and label.\n",
    "\n",
    "3. Then, use that to determine the approximate location where $\\epsilon_{\\rm{nuc,normalized}}\\rightarrow0$, we will define this as the edge of the hydrogen burning core. \n",
    "\n",
    ">Hint: In the sun, this is at about a [fractional radius of 20%](https://en.wikipedia.org/wiki/Solar_core)\n",
    "\n",
    "4. Lastly, annotate the three regions on the same plot, 'core', 'radiative', and 'convective' using annotate.\n"
   ]
  },
  {
   "cell_type": "code",
   "execution_count": null,
   "metadata": {},
   "outputs": [],
   "source": [
    "# obtain eps nuc\n",
    "#one_msun_ms_eps_nuc = #"
   ]
  },
  {
   "cell_type": "code",
   "execution_count": null,
   "metadata": {},
   "outputs": [],
   "source": [
    "# plot everything combined and annotated\n",
    "#plt.plot(#,label=r'$F_{rad}$')\n",
    "#plt.plot(#,label=r'$F_{conv}$')\n",
    "#plt.plot(#,label=r'$\\epsilon_{\\rm{nuc}}$')\n",
    "#plt.axvline(#,color='k',ls='--')\n",
    "#plt.axvline(#,color='k',ls='--')\n",
    "#plt.annotate('core',xy=(#,#)) ## (x,y) data pair of the x and y variable\n",
    "#plt.ylabel('Normalized Variable')\n",
    "#plt.xlabel('r/Rsun')\n",
    "#plt.legend()"
   ]
  },
  {
   "cell_type": "code",
   "execution_count": null,
   "metadata": {},
   "outputs": [],
   "source": []
  }
 ],
 "metadata": {
  "kernelspec": {
   "display_name": "Python 3 (ipykernel)",
   "language": "python",
   "name": "python3"
  },
  "language_info": {
   "codemirror_mode": {
    "name": "ipython",
    "version": 3
   },
   "file_extension": ".py",
   "mimetype": "text/x-python",
   "name": "python",
   "nbconvert_exporter": "python",
   "pygments_lexer": "ipython3",
   "version": "3.11.8"
  }
 },
 "nbformat": 4,
 "nbformat_minor": 4
}
