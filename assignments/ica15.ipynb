{
 "cells": [
  {
   "cell_type": "markdown",
   "metadata": {
    "user_expressions": []
   },
   "source": [
    "# In-Class Assignment 15\n",
    "\n",
    "**Note due for credit, in-class participation only**\n",
    "\n",
    "## Wolf-Rayet Stars\n",
    "\n",
    "### Learning Objectives\n",
    "\n",
    "- explore HR properties of WR stars\n",
    "- classify subclasses of WR stars "
   ]
  },
  {
   "cell_type": "code",
   "execution_count": 1,
   "metadata": {
    "tags": []
   },
   "outputs": [],
   "source": [
    "import numpy as np\n",
    "import matplotlib.pyplot as plt\n",
    "import pandas as pd"
   ]
  },
  {
   "cell_type": "markdown",
   "metadata": {},
   "source": [
    "## a. - Mass loss evolution of WR stars\n",
    "\n",
    "Download the following model files locally. These data were produced using the `80m_zams_to_cc` test suite. This model was only evolved to core He-depletion.\n",
    "\n",
    "* $80 M_{\\odot}$: [80m_zams_to_cc_history.data](data/80m_zams_to_cc_history.data);\n",
    "\n",
    "### **Individually/with the person next to you**:\n",
    "\n",
    "Using the $80M_{\\odot}$ MESA history dataset: \n",
    "\n",
    "1. Plot an HR diagram of the model as a scatter plot, but color the data according to the log of the absolute value of the mass loss rate `log_abs_mdot` value at a given HR data pair.\n",
    "\n",
    "2. Label a vertical line of log effective temperature where the star becomes a WR star and label that region."
   ]
  },
  {
   "cell_type": "code",
   "execution_count": 2,
   "metadata": {},
   "outputs": [],
   "source": [
    "# load data and see which variables are available\n",
    "#wr_80m_history = pd.read_csv('##',sep=r'\\s+',header=4)\n",
    "#list(wr_80m_history)\n",
    "#wr_80m_history.head(10)"
   ]
  },
  {
   "cell_type": "code",
   "execution_count": 3,
   "metadata": {},
   "outputs": [],
   "source": [
    "# load vars\n",
    "#wr_80m_log_Teff = wr_80m_history['##']\n",
    "#wr_80m_log_L = wr_80m_history['##']\n",
    "#wr_80m_log_abs_Mdot = wr_80m_history['##']"
   ]
  },
  {
   "cell_type": "code",
   "execution_count": 4,
   "metadata": {},
   "outputs": [],
   "source": [
    "## a results here\n",
    "#fig, ax = plt.subplots()\n",
    "\n",
    "#sc = ax.scatter(wr_80m_log_Teff,\n",
    "#           wr_80m_log_L, \n",
    "#           c=wr_80m_log_abs_Mdot, \n",
    "#           cmap='inferno')\n",
    "\n",
    "#ax.invert_xaxis()\n",
    "\n",
    "#plt.colorbar(sc,label=r'$\\left | \\dot{M} \\right | \\ (M_{\\odot} \\ \\rm{yr}^{-1})$')\n",
    "\n",
    "# label the WR phase\n",
    "#plt.axvline(X,color='k',ls='-',lw=1)\n",
    "#ax.text(X,Y, 'WR', rotation=90)\n",
    "\n",
    "\n",
    "#plt.legend()\n",
    "#plt.xlabel(r'$\\rm{log}~T_{\\rm{eff}} \\ (K)$')\n",
    "#plt.ylabel(r'$\\rm{log}~L \\ (L_{\\odot})$')\n",
    "\n",
    "#plt.show()"
   ]
  },
  {
   "cell_type": "markdown",
   "metadata": {},
   "source": [
    "### **With your larger group, try to answer the following**:\n",
    "\n",
    "1. Does this star become a blue supergiant? If so, when?\n",
    "\n",
    "> Your groups response here. \n",
    "\n",
    "2. Does this star experience an LBV outburst? If so, how can we tell?\n",
    "\n",
    "> Your groups response here. \n",
    "\n",
    "3. Does the star become a red supergiant? If so, why or why not?\n",
    "\n",
    "> Your groups response here. \n",
    "\n",
    "4. Describe in a few words qualitatively, the path of the model after it leaves the MS.\n",
    "\n",
    "> Your groups response here. "
   ]
  },
  {
   "cell_type": "markdown",
   "metadata": {},
   "source": [
    "## b. - WR subclasses\n",
    "\n",
    "### Wolf-Rayet stars ($M\\gt\\sim25M_{\\odot}$)\n",
    "\n",
    "Very hot, luminous stars with with bright emission lines in their spectra, mass loss rates of $\\dot{M}\\approx 10^{-5}$ to $10^{-4}$ $M_{\\odot} \\textrm{yr}^{-1}$.\n",
    "\n",
    "**WNL stars**: some H present on their surface ($X_{\\rm{H}}\\lt0.4$) and increased He and N abundances consistent with CNO cycle burning. \n",
    "\n",
    "**WNE stars**: similar to WNL but they lack hydrogen ($X_{\\rm{H}}=0$)\n",
    "\n",
    "**WC stars**: no H, little or no N, some He/C/O suggest partial H burning\n",
    "\n",
    "**WO stars**: similar to WC stars but strongly increased O suggesting nearly complete helium burning\n",
    "\n",
    "### **Individually/with the person next to you**:\n",
    "\n",
    "1. Plot the surface abundances of he4, c12, o16, the hydrogen envelope mass fraction left (`envelope_fraction_left`- $X_{H}$) as a function of model number. "
   ]
  },
  {
   "cell_type": "code",
   "execution_count": 5,
   "metadata": {},
   "outputs": [],
   "source": [
    "# load additional vars\n",
    "#wr_80m_model_number = wr_80m_history['##']\n",
    "#wr_80m_surface_he4 = wr_80m_history['surface_##']\n",
    "#wr_80m_surface_c12 = wr_80m_history['surface_##']\n",
    "#wr_80m_surface_n14 = wr_80m_history['surface_##']\n",
    "#wr_80m_surface_o16 = wr_80m_history['surface_##']\n",
    "#wr_80m_envelope_fraction_left = wr_80m_history['##']"
   ]
  },
  {
   "cell_type": "code",
   "execution_count": 6,
   "metadata": {},
   "outputs": [],
   "source": [
    "## 1 result here\n",
    "#plt.title('80$M_{\\odot}$ Model During MS and Core He-Burning')\n",
    "\n",
    "#plt.plot(#,\n",
    "#         #,label=r'$X_{\\rm{env}}(H)$')\n",
    "\n",
    "#plt.plot(#,\n",
    "#         #,label=r'$X_{\\rm{surface}}(^{4}\\rm{He})$')\n",
    "\n",
    "#plt.plot(#,\n",
    "#         #,label=r'$X_{\\rm{surface}}(^{12}\\rm{C})$')\n",
    "\n",
    "#plt.plot(#,\n",
    "#         #,label=r'$X_{\\rm{surface}}(^{16}\\rm{O})$')\n",
    "\n",
    "#plt.legend()\n",
    "#plt.xlabel(r'$\\rm{Model \\ Number}$')\n",
    "#plt.ylabel(r'Variable')"
   ]
  },
  {
   "cell_type": "markdown",
   "metadata": {},
   "source": [
    "### **With your larger group, try to answer the following**:\n",
    "\n",
    "1. What subclass of WR stars does the model become at the last model number (this corresponds to core He-depletion) and why?\n",
    "\n",
    "> Respond here.\n",
    "\n",
    "2. After the star has left the main-sequence but before core He-depletion what _other_ subclass of WR stars does the star appear as before its final?\n",
    "\n",
    ">Hint: look around model number of 800 to answer this. \n",
    "\n",
    "> Respond here.\n",
    "\n",
    "3. What will be the evolutionary fate of this star? Will it blow up? What type of supernova will it be?\n",
    "\n",
    "> Respond here."
   ]
  }
 ],
 "metadata": {
  "kernelspec": {
   "display_name": "Python 3 (ipykernel)",
   "language": "python",
   "name": "python3"
  },
  "language_info": {
   "codemirror_mode": {
    "name": "ipython",
    "version": 3
   },
   "file_extension": ".py",
   "mimetype": "text/x-python",
   "name": "python",
   "nbconvert_exporter": "python",
   "pygments_lexer": "ipython3",
   "version": "3.11.8"
  }
 },
 "nbformat": 4,
 "nbformat_minor": 4
}
