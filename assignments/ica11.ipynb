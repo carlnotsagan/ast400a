{
 "cells": [
  {
   "cell_type": "markdown",
   "metadata": {
    "user_expressions": []
   },
   "source": [
    "# In-Class Assignment 11\n",
    "\n",
    "## Stellar Atmospheres\n",
    "\n",
    "### Learning Objectives\n",
    "\n",
    "- explore conditions at / near the stellar photosphere\n",
    "- compare surface conditions to analytic estimates\n",
    "- qualitatively describe properties of the stellar atmosphere\n",
    "- (optional) use `tulips` to visualize the stellar atmosphere"
   ]
  },
  {
   "cell_type": "code",
   "execution_count": null,
   "metadata": {
    "tags": []
   },
   "outputs": [],
   "source": [
    "import numpy as np\n",
    "import matplotlib.pyplot as plt\n",
    "import pandas as pd"
   ]
  },
  {
   "cell_type": "markdown",
   "metadata": {},
   "source": [
    "## a. Stellar Atmosphere in a Solar-like star\n",
    "\n",
    "### **Individually/ with the person next to you**:\n",
    "\n",
    "Download, or reuse from a previous class:\n",
    "\n",
    "* New $1 M_\\odot$ MS model: [1m_ms_profile.data](data/1m_ms_profile.data);\n",
    "\n",
    "Using the $1M_\\odot$ model MESA profile data (`1m_ms_profile.data`):\n",
    "\n",
    "1. Plot the log gas pressure ($P_{\\rm{gas}}$) and log radiation pressure ($P_{\\rm{rad}}$) as a function of the log `optical_depth` ($\\tau$) (x-axis).\n",
    "\n",
    "\n",
    "We saw in HKT 4.3 that we can use the equation of HSE to calculate photospheric pressure as a function of $g$ and $\\tau$. \n",
    "\n",
    "Eq. 4.48 \n",
    "\n",
    "$$\n",
    "P(\\tau_{\\rm{P}}) = \\frac{2}{3}\\frac{g_{\\rm{S}}}{\\kappa_{\\rm{P}}} \\left ( 1 + \\frac{\\kappa_{\\rm{P}}L}{4 \\pi c G M} \\right ) \\equiv \\frac{2}{3}\\frac{g_{\\rm{S}}}{\\kappa_{\\rm{P}}} \\left ( 1 + \\frac{L}{L_{\\rm{edd}}} \\right )\n",
    "$$\n",
    "\n",
    "where $g_{\\rm{s}}=G M/R^2$ and $L_{\\rm{edd}}= 4 \\pi c G M/\\kappa_{\\rm{P}}$ is the _Eddington critical luminosity_\n",
    "\n",
    "and Eq. 4.54\n",
    "\n",
    "$$\n",
    "\\boxed{P(\\tau_{\\rm{P}}) \\approx \\frac{2}{3}\\frac{g_{\\rm{S}}}{\\kappa_{\\rm{P}}}}\n",
    "$$\n",
    "\n",
    "\n",
    "2. Use this equation to compute the analytical estimate for pressure at the photosphere for this model (ignoring the eddington luminosity term).\n",
    "\n",
    "3. Add this estimated value to the same plot using a plt.axhline for the value obtained.\n",
    "\n",
    "> Hint: dont forget to take the log of the value and make sure you are in CGS.\n",
    "\n",
    "4. Also plot the ratio of the total luminosity to that of the Eddington luminosity as a function of optical depth again."
   ]
  },
  {
   "cell_type": "code",
   "execution_count": null,
   "metadata": {
    "scrolled": false
   },
   "outputs": [],
   "source": [
    "# load the 1m data here\n",
    "#one_m_ms_profile = pd.read_csv('###',sep=r'\\s+',header=4)\n",
    "#list(one_m_ms_profile)"
   ]
  },
  {
   "cell_type": "code",
   "execution_count": null,
   "metadata": {},
   "outputs": [],
   "source": [
    "msun_cgs  = 2e33\n",
    "G_cgs = 6.67e-8\n",
    "#one_m_ms_profile_Pgas = one_m_ms_profile['pgas'] # radiation pressure\n",
    "#one_m_ms_profile_Prad = one_m_ms_profile['prad'] # gas pressure\n",
    "#one_m_ms_profile_kappa = one_m_ms_profile['##'] # kappa\n",
    "#one_m_ms_profile_total_mass = max(one_m_ms_profile['mass'])*msun_cgs # M \n",
    "#one_m_ms_profile_total_radius_cm = max(one_m_ms_profile['radius_cm']) # R\n",
    "#one_m_ms_profile_tau = one_m_ms_profile['##\n",
    "#one_m_ms_profile_L = 10**(one_m_ms_profile['##\n",
    "#one_m_ms_profile_Ledd = 10**(one_m_ms_profile['##"
   ]
  },
  {
   "cell_type": "code",
   "execution_count": null,
   "metadata": {},
   "outputs": [],
   "source": [
    "#gs = (G_cgs*X/(XX)**2)\n",
    "#P = 2./3. * ### # the photosphere value of the opacity is at index `[0]`"
   ]
  },
  {
   "cell_type": "code",
   "execution_count": null,
   "metadata": {},
   "outputs": [],
   "source": [
    "## 1-3 result here\n",
    "#plt.title('1$M_\\odot$ MESA Model During H-burning')\n",
    "\n",
    "#plt.plot(np.log10(tau),\n",
    "#         np.log10(gas),label=r'$P_{\\rm{gas}}$')\n",
    "\n",
    "#plt.plot(np.log10(tau),\n",
    "#         np.log10(Prad),label=r'$P_{\\rm{rad}}$')\n",
    "\n",
    "\n",
    "#plt.axhline(np.log10(P),color='k',lw=1,ls='--',label=r'HKT 4.54 Approximation')\n",
    "\n",
    "#plt.legend()\n",
    "#plt.xlabel(r'$\\rm{log}_{10}(\\tau)$')\n",
    "#plt.ylabel(r'$\\rm{log}~P \\ (\\rm{erg\\ \\rm{s}^{-1}})$')"
   ]
  },
  {
   "cell_type": "code",
   "execution_count": null,
   "metadata": {},
   "outputs": [],
   "source": [
    "## 4 result here\n",
    "#plt.title('1$M_\\odot$ MESA Model During H-burning')\n",
    "\n",
    "#plt.plot(np.log10(one_m_ms_profile_tau),\n",
    "#         np.log10(L/Ledd))\n",
    "\n",
    "#plt.axhline(0,lw=0.5,ls='-.',color='k') # when L > Ledd\n",
    "\n",
    "#plt.xlabel(r'$\\rm{log}_{10}(\\tau)$')\n",
    "#plt.ylabel(r'$\\rm{log}~ (L/L_{\\rm{Edd}})$')"
   ]
  },
  {
   "cell_type": "markdown",
   "metadata": {},
   "source": [
    "### **With your larger group, try to answer the following**:\n",
    "\n",
    "5. Where is the surface (or in this case the atmosphere) on this plot?\n",
    "\n",
    "> Your group's response.\n",
    "\n",
    "6. Does the estimated pressure for this model match the value at the photosphere?\n",
    "\n",
    "> Your group's response.\n",
    "\n",
    "7. In the second plot, does the luminosity ever exceed the eddington luminosity in the model near the atmosphere?\n",
    "\n",
    "> Your group's response.\n",
    "\n",
    "8. What might these results suggest about the validity of the analytical estimate we compared against?\n",
    "\n",
    "> Your group's response."
   ]
  },
  {
   "cell_type": "markdown",
   "metadata": {},
   "source": [
    "## b. Stellar Atmosphere in a Massive star\n",
    "\n",
    "### **Individually/ with the person next to you**:\n",
    "\n",
    "Download, or reuse from a previous class:\n",
    "\n",
    "* $20 M_\\odot$ MS model: [20m_ms_profile.data](data/20m_ms_profile.data);\n",
    "\n",
    "Using the $20M_\\odot$ model MESA profile data (`20m_ms_profile.data`):\n",
    "\n",
    "1. Plot the log gas pressure ($P_{\\rm{gas}}$) and log radiation pressure ($P_{\\rm{rad}}$) as a function of the `optical_depth` ($\\tau$) (x-axis).\n",
    "\n",
    "2. Use this equation to compute the analytical estimate for pressure at the photosphere for this model (ignoring the eddington luminosity term).\n",
    "\n",
    "3. Add this estimated value to the same plot using a plt.axhline for the value obtained.\n",
    "\n",
    "> Hint: dont forget to take the log of the value and make sure you are in CGS.\n",
    "\n",
    "4. Also plot the ratio of the total luminosity to that of the Eddington luminosity as a function of optical depth again.\n",
    "\n",
    "This plot shows the ranges over which MESA uses different [atmosphere boundary conditions](https://iopscience.iop.org/article/10.1088/0067-0049/192/1/3#apjs374559f6)."
   ]
  },
  {
   "cell_type": "code",
   "execution_count": null,
   "metadata": {},
   "outputs": [],
   "source": [
    "# load data with pandas\n",
    "#one_m_ms_profile = pd.read_csv('data/20m_ms_profile.data',sep=r'\\s+',header=4)\n",
    "#list(one_m_ms_profile)"
   ]
  },
  {
   "cell_type": "code",
   "execution_count": null,
   "metadata": {},
   "outputs": [],
   "source": [
    "# load variables here - you can resuse from part a.\n",
    "#one_m_ms_profile_Pgas = one_m_ms_profile['##'] # radiation pressure\n",
    "#one_m_ms_profile_Prad = one_m_ms_profile['##'] # gas pressure"
   ]
  },
  {
   "cell_type": "code",
   "execution_count": null,
   "metadata": {},
   "outputs": [],
   "source": [
    "# compute g at the surface\n",
    "#gs = (G_cgs*\n",
    "\n",
    "# compute analytical P value\n",
    "#P = 2./3.# the photosphere value of the opacity is at index `[0]`"
   ]
  },
  {
   "cell_type": "code",
   "execution_count": null,
   "metadata": {},
   "outputs": [],
   "source": [
    "## 1-3 result here\n",
    "#plt.title('20$M_\\odot$ MESA Model During H-burning')\n",
    "\n",
    "#plt.plot(np.log10(tau),\n",
    "#         np.log10(Pgas),label=r'$P_{\\rm{gas}}$')\n",
    "\n",
    "#plt.plot(np.log10(tau),\n",
    "#         np.log10(Prad),label=r'$P_{\\rm{rad}}$')\n",
    "\n",
    "#plt.axhline(np.log10(P),color='k',lw=1,ls='--',label=r'HKT 4.54 Approximation')\n",
    "\n",
    "#plt.legend()\n",
    "#plt.xlabel(r'$\\rm{log}_{10}(\\tau)$')\n",
    "#plt.ylabel(r'$\\rm{log}~P \\ (\\rm{dyne\\ \\rm{cm}^{-2}})$')"
   ]
  },
  {
   "cell_type": "code",
   "execution_count": null,
   "metadata": {},
   "outputs": [],
   "source": [
    "## 1-2 result here\n",
    "#plt.title('20$M_\\odot$ MESA Model During H-burning')\n",
    "\n",
    "#plt.plot(np.log10(tau),\n",
    "#         np.log10(L/oLedd),label=r'$L/L_{\\rm{Edd}}$')\n",
    "\n",
    "#plt.axhline(0,lw=0.5,ls='-.',color='k')\n",
    "\n",
    "#plt.xlabel(r'$\\rm{log}_{10}(\\tau)$')\n",
    "#plt.ylabel(r'$\\rm{log}~ (L/L_{\\rm{Edd}})$')"
   ]
  },
  {
   "cell_type": "markdown",
   "metadata": {},
   "source": [
    "### **With your larger group, try to answer the following**:\n",
    "\n",
    "5. How do the different pressure contributions differ in this model compared to the previous one?\n",
    "\n",
    "> Your group's response.\n",
    "\n",
    "6. Does the estimated pressure for this model match the value at the photosphere?\n",
    "\n",
    "> Your group's response.\n",
    "\n",
    "7. In the second plot, does the luminosity ever exceed the eddington luminosity in the model near the atmosphere?\n",
    "\n",
    "> Your group's response.\n",
    "\n",
    "8. What might these results suggest about the validity of the analytical estimate we compared against?\n",
    "\n",
    "> Your group's response."
   ]
  }
 ],
 "metadata": {
  "kernelspec": {
   "display_name": "Python 3 (ipykernel)",
   "language": "python",
   "name": "python3"
  },
  "language_info": {
   "codemirror_mode": {
    "name": "ipython",
    "version": 3
   },
   "file_extension": ".py",
   "mimetype": "text/x-python",
   "name": "python",
   "nbconvert_exporter": "python",
   "pygments_lexer": "ipython3",
   "version": "3.11.8"
  }
 },
 "nbformat": 4,
 "nbformat_minor": 4
}
