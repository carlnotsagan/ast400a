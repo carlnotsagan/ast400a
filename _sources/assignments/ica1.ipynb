{
 "cells": [
  {
   "cell_type": "markdown",
   "metadata": {
    "user_expressions": []
   },
   "source": [
    "# In-Class Assignment 1\n",
    "\n",
    "_Thursday, August 28, 2025_\n",
    "\n",
    "## Color magnitude diagrams and Hertzsprung–Russell diagram\n",
    "\n",
    "**Work in groups of 2**\n",
    "\n",
    "### Learning Objectives\n",
    "\n",
    "- develop skills using jupyter notebooks for data analysis\n",
    "- build color-magnitude diagrams using Gaia data\n",
    "- be able to describe and annotate stellar populations\n",
    "- compare observational data to theoretical isochrones\n",
    "- produce theoretical HR diagrams\n",
    "- be able to label theoritcal HR diagrams"
   ]
  },
  {
   "cell_type": "markdown",
   "metadata": {},
   "source": [
    "To read in these files, we will use [Pandas](https://pandas.pydata.org/docs/getting_started/install.html)\n",
    "\n",
    "````{note}\n",
    "Install pandas via conda using\n",
    "```\n",
    "conda install conda-forge::pandas\n",
    "```\n",
    "````"
   ]
  },
  {
   "cell_type": "code",
   "execution_count": null,
   "metadata": {
    "tags": []
   },
   "outputs": [],
   "source": [
    "import numpy as np\n",
    "import matplotlib.pyplot as plt\n",
    "import pandas as pd"
   ]
  },
  {
   "cell_type": "markdown",
   "metadata": {},
   "source": [
    "# a. - Color magnitude diagrams\n",
    "\n",
    "Download the following model files locally. These data were produced using an ADQL from the Gaia Archive [here](https://gea.esac.esa.int/archive/).\n",
    "\n",
    "* Gaia DR3 Data of [M3](https://en.wikipedia.org/wiki/Messier_3): Download [here](data/m3-result.csv).\n",
    "\n",
    "1. Load the data using pandas as a CSV.\n",
    "\n",
    "Details [here](https://pandas.pydata.org/docs/reference/api/pandas.read_csv.html).\n",
    "\n",
    "2. Plot the data to create a CMD scatterplot of the color $G_{BP}-G_{RP}$ bands on the x-axis and $G$ absolute magnitude on the y-axis. \n",
    "\n",
    "> Hint: be sure to invert the y-axis\n",
    "\n",
    "3. Label **three** evolution epochs from our discussion in lecture: MS, RGB, HB, etc.\n",
    "\n",
    "> Hint: set axis limits to help zoom in on the data\n",
    "> Hint: you can reduce the marker size with scatter plots using `s=0.1`"
   ]
  },
  {
   "cell_type": "code",
   "execution_count": null,
   "metadata": {},
   "outputs": [],
   "source": [
    "# 1. load the data here\n",
    "# you can see which column names are available by calling `mydata.columns` for example"
   ]
  },
  {
   "cell_type": "code",
   "execution_count": null,
   "metadata": {
    "scrolled": false
   },
   "outputs": [],
   "source": [
    "# load cmd data here\n",
    "# get column variables for plotting here"
   ]
  },
  {
   "cell_type": "code",
   "execution_count": null,
   "metadata": {},
   "outputs": [],
   "source": [
    "# save your final plot"
   ]
  },
  {
   "cell_type": "markdown",
   "metadata": {},
   "source": [
    "# b. -  HR Diagram \n",
    "\n",
    "Download the following data locally. \n",
    "\n",
    "* $1 M_\\odot$: [M1_default_trimmed_history.data](data/M1_default_trimmed_history.data)\n",
    "\n",
    "* $8 M_\\odot$: [M8_basic_co_trimmed_history.data](data/M8_basic_co_trimmed_history.data)\n",
    "\n",
    "* $15 M_\\odot$: [M15_aprox21_trimmed_history.data](data/M15_aprox21_trimmed_history.data)\n",
    "\n",
    "\n",
    "Lets start with an HR diagram. Below are some possible steps to do that. For reference, here are some common commands working with [Pandas CSV](https://pandas.pydata.org/docs/reference/api/pandas.read_csv.html#pandas.read_csv) and [here](https://docs.mesastar.org/en/24.08.1/using_mesa/output.html#examples).\n",
    "\n",
    "The `matplotlib` reference page is linked [here](https://matplotlib.org/stable/api/index.html).\n",
    "\n",
    "1. Load the MESA data using pandas.\n",
    "\n",
    "2. Plot and label the axis for a HR diagram with each stellar model on the same plot. \n",
    "\n",
    "3. Next, plotting only the 1m HR diagram, label the approximate location of the main sequence?"
   ]
  },
  {
   "cell_type": "code",
   "execution_count": null,
   "metadata": {},
   "outputs": [],
   "source": [
    "# load data and see which variables are available"
   ]
  },
  {
   "cell_type": "code",
   "execution_count": null,
   "metadata": {},
   "outputs": [],
   "source": [
    "# load additional files here"
   ]
  },
  {
   "cell_type": "code",
   "execution_count": null,
   "metadata": {},
   "outputs": [],
   "source": [
    "# set variables for HR diagram "
   ]
  },
  {
   "cell_type": "code",
   "execution_count": null,
   "metadata": {},
   "outputs": [],
   "source": [
    "# make sure to set your limit appropriately!\n",
    "# especially the x axis. \n",
    "# plot your HR diagram here\n",
    "# save your final plot"
   ]
  },
  {
   "cell_type": "code",
   "execution_count": null,
   "metadata": {},
   "outputs": [],
   "source": [
    "# part b3 here\n",
    "# save your final plot"
   ]
  }
 ],
 "metadata": {
  "kernelspec": {
   "display_name": "Python 3 (ipykernel)",
   "language": "python",
   "name": "python3"
  },
  "language_info": {
   "codemirror_mode": {
    "name": "ipython",
    "version": 3
   },
   "file_extension": ".py",
   "mimetype": "text/x-python",
   "name": "python",
   "nbconvert_exporter": "python",
   "pygments_lexer": "ipython3",
   "version": "3.11.8"
  }
 },
 "nbformat": 4,
 "nbformat_minor": 4
}
