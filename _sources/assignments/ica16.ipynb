{
 "cells": [
  {
   "cell_type": "markdown",
   "id": "308d9877-6dee-4c8b-92cd-8ee4d38ccc9a",
   "metadata": {},
   "source": [
    "# In-Class Assignment 16\n",
    "\n",
    "**Due by the end of the day, Tuesday, 28 October, 2025**\n",
    "\n",
    "# Estimating $H_0$ from Type Ia Supernovae\n",
    "\n",
    "## Learning Objectives\n",
    "\n",
    "- Explore the Phillips Relation using observational data.\n",
    "- Practice plotting data with error bars and fitting to observational data.\n",
    "- Using results of fitted data to compute cosmological parameters. \n",
    "\n",
    "Credit: [Michael Zingale](https://github.com/zingale/).\n",
    "\n",
    "---"
   ]
  },
  {
   "cell_type": "markdown",
   "id": "8b5a2e9d-d44a-45fb-b5f3-93fafea6eadb",
   "metadata": {},
   "source": [
    "### Phillips relation\n",
    "\n",
    "Type Ia supernova are used as standardizable candles to measure cosmological distances.  By observing the lightcurve and measuring how long it takes for the supernova to dim we can empirically determine its brightness via the [Phillips relation](https://en.wikipedia.org/wiki/Phillips_relationship)."
   ]
  },
  {
   "cell_type": "markdown",
   "id": "6da9d224-4ebc-4d4a-8cdc-55be74958e6b",
   "metadata": {},
   "source": [
    "The paper [_Spectra and Hubble Space Telescope Light Curves of Six Type Ia Supernovae at 0.511 < z < 1.12 and the Union2 Compilation_](https://ui.adsabs.harvard.edu/abs/2010ApJ...716..712A/abstract) by Amanullah et al. made a [data set available](https://supernova.lbl.gov/Union/figures/SCPUnion2_mu_vs_z.txt) that has ~ 500 Type Ia supernovae."
   ]
  },
  {
   "cell_type": "markdown",
   "id": "b62c6367-56c3-439a-ab4c-e45577c105e0",
   "metadata": {},
   "source": [
    "```{note}\n",
    "That paper does a far, far more sophisticated analysis than we do, and they fit for other cosmological parameters that we will, so we will not get the same answer as they do.  But this is a fun dataset to try out regression with.\n",
    "```"
   ]
  },
  {
   "cell_type": "code",
   "execution_count": null,
   "id": "9b968220-f2f2-42d8-8217-4d3d8536d8ce",
   "metadata": {
    "tags": []
   },
   "outputs": [],
   "source": [
    "import numpy as np\n",
    "import matplotlib.pyplot as plt"
   ]
  },
  {
   "cell_type": "markdown",
   "id": "c0eb166a-16c3-417f-b353-7d3c10659c9f",
   "metadata": {},
   "source": [
    "## a. - Sort and plot the data\n",
    "\n",
    "**Describing the Data:**\n",
    "\n",
    "The dataset has 4 columns:\n",
    "* supernova identifier\n",
    "* redshift, $z$, due to cosmological expansion\n",
    "* [distance modulus](https://en.wikipedia.org/wiki/Distance_modulus), $\\mu$, defined as:\n",
    "\n",
    "  $$\\mu = m - M = 5 \\log_{10} \\left (\\frac{d}{10~\\mbox{pc}}\\right )$$\n",
    "\n",
    "  where $m$ is the [apparent magnitude](https://en.wikipedia.org/wiki/Apparent_magnitude) of the\n",
    "  supernova (what we observe) and $M$ is the [absolute magnitiude](https://en.wikipedia.org/wiki/Absolute_magnitude) of the supernova (inferred empirically from the lightcurve).\n",
    "* uncertainty in $\\mu$"
   ]
  },
  {
   "cell_type": "markdown",
   "id": "afac03d2-0980-4c7e-bbb4-01c4ad2fd71d",
   "metadata": {},
   "source": [
    "## a. - Exploring the dataset and producing a Hubble diagram\n",
    "\n",
    "Download the source data for this example [here](data/SCPUnion2_mu_vs_z.txt).\n",
    "\n",
    "### **Individually/with the person next to you**:\n",
    "\n",
    "1. Load the observational data using [`genfromtext`](https://numpy.org/doc/stable/reference/generated/numpy.genfromtxt.html).\n",
    "\n",
    "2. Plot the distance modulus $\\mu$ as a function of redshift $z$ with the errorbars $\\delta \\mu$ (`dmu` in our dataset) using [`plt.errorbar`](https://matplotlib.org/stable/api/_as_gen/matplotlib.pyplot.errorbar.html).\n",
    "\n",
    "> You can compare this result to Figure 9 from the paper mentioned [above](https://iopscience.iop.org/article/10.1088/0004-637X/716/1/712#apj341188f9).\n",
    "\n",
    "We can also make a plot that looks a bit more like a [Hubble diagram](https://en.wikipedia.org/wiki/Hubble%27s_law#Hubble_diagram) by plotting redshift vs. distance,\n",
    "computing distance as:\n",
    "\n",
    "$$d = 10 \\cdot 10^{\\mu/5}~\\mathrm{pc}$$\n",
    "\n",
    "3. Compute the distance using the above equation and our dataset.\n",
    "4. Plot the redshift as a function of the computed distance (in Gpc) using a scatter plot to produce a _Hubble diagram_.\n"
   ]
  },
  {
   "cell_type": "code",
   "execution_count": null,
   "id": "dbb8a5c5",
   "metadata": {},
   "outputs": [],
   "source": [
    "#data = np.genfromtxt(\"##\",\n",
    "#                     dtype=[(\"name\", \"S6\"), (\"z\", \"f8\"), (\"mu\", \"f8\"), (\"dmu\", \"f8\")])"
   ]
  },
  {
   "cell_type": "code",
   "execution_count": null,
   "id": "8d4637a7",
   "metadata": {},
   "outputs": [],
   "source": [
    "# 2 plot here\n",
    "#plt.errorbar(##,##, \n",
    "#             yerr = ##, fmt = 'd',color='goldenrod',ms=4)\n",
    "\n",
    "#plt.ylabel('Distance Modulus $\\mu$')\n",
    "#plt.xlabel('Redshift $z$')"
   ]
  },
  {
   "cell_type": "code",
   "execution_count": null,
   "id": "ef9ed66c-52fa-40bd-a2b9-37c5ef6c636f",
   "metadata": {
    "tags": []
   },
   "outputs": [],
   "source": [
    "# 3-4 result here\n",
    "#d = \n",
    "#plt.scatter(##, ##/1e9,color='pink',marker='d')\n",
    "#plt.ylabel('Distance (Gpc)')\n",
    "#plt.xlabel('Redshift $z$')"
   ]
  },
  {
   "cell_type": "markdown",
   "id": "fbe86f14",
   "metadata": {},
   "source": [
    "### **With your larger group, try to answer the following**:\n",
    "\n",
    "1. Comment qualitatively on the scatter of the measurements towards higher redshift. What might contribute to the scatter?\n",
    "\n",
    "> Respond here.\n",
    "\n",
    "2. Comment on the qualitative behavior of the sources in the Hubble diagram. Assuming $v=H_{0}d$, what can we say about the behaviour of the sources as a function of redshift?\n",
    "\n",
    "> Respond here."
   ]
  },
  {
   "cell_type": "markdown",
   "id": "0a813664-24a7-4252-84c9-c7c2435eebbd",
   "metadata": {},
   "source": [
    "### Cosmological parameters\n",
    "\n",
    "We have the [distance modulus](https://en.wikipedia.org/wiki/Distance_modulus), which is related to the magnitudes via:\n",
    "\n",
    "$$\\mu = m - M = 5 \\log_{10} \\left (\\frac{d}{10~\\mbox{pc}}\\right )$$\n",
    "\n",
    "Since cosmologists usually work in terms of Mpc, let's rewrite this as:\n",
    "\n",
    "$$\\mu = m - M = 5 \\log_{10} \\left (\\frac{d}{10~\\mbox{pc}}\\right ) \n",
    "    + 5 \\log_{10} \\left ( \\frac{1~\\mbox{Mpc}}{1~\\mbox{Mpc}}\\right )\n",
    "    = 5 \\log_{10} \\left (\\frac{d}{1~\\mbox{Mpc}}\\right ) + 25$$\n",
    "\n",
    "Now, in an expanding Universe, the distance that goes here is the [luminosity distance](https://en.wikipedia.org/wiki/Luminosity_distance) which can be expressed via an expansion in redshift as (for $z \\ll 1$):\n",
    "\n",
    "$$d_L \\approx \\frac{c}{H_0} \\left [ z + \\frac{1}{2} (1 - q_0) z^2 + \\ldots \\right ]$$\n",
    "\n",
    "Here $H_0$ is the [Hubble constant](https://en.wikipedia.org/wiki/Hubble%27s_law) and $q_0$ is the [deceleration parameter](https://en.wikipedia.org/wiki/Deceleration_parameter).\n",
    "\n",
    "**We'll try to estimate $H_0$ from this data.**\n",
    "\n",
    "```{note}\n",
    "This is different than what the original paper did&mdash;they used a value of $H_0$ to find a $\\Omega_m$ and $\\Omega_\\Lambda$ using the more general expression for luminosity distance given in [Perlmutter et al. 1997](https://ui.adsabs.harvard.edu/abs/1997ApJ...483..565P/abstract) (see footnote 14):\n",
    "\n",
    "$$d_L(z; \\Omega_M, \\Omega_\\Lambda, H_0) = \\frac{c(1+z)}{H_0 \\sqrt{|\\kappa|}} \n",
    "  S\\left ( \\sqrt{|\\kappa|} \\int_0^z \\left [(1 + z')^2(1 + \\Omega_M z') - z'(2 + z')\\Omega_\\Lambda\\right ]^{-1/2} dz' \\right )$$\n",
    "\n",
    "with $S(x)$ and $\\kappa$ defined as:\n",
    "\n",
    "* $\\Omega_M + \\Omega_\\Lambda > 1$: $S(x) = \\sin(x)$; $\\kappa = 1 - \\Omega_M - \\Omega_\\Lambda$\n",
    "* $\\Omega_M + \\Omega_\\Lambda = 1$: $S(x) = x$; $\\kappa = 1$\n",
    "* $\\Omega_M + \\Omega_\\Lambda < 1$: $S(x) = \\sinh(x)$; $\\kappa = 1 - \\Omega_M - \\Omega_\\Lambda$\n",
    "\n",
    "Using this definition would require us to combine integration and fitting.\n",
    "```\n",
    "\n",
    "We want to fit:\n",
    "\n",
    "$$\\mu = 5\\log_{10} \\left (\\frac{cz}{H_0 \\cdot 1~\\mbox{Mpc}} \\left [1 + \\frac{1}{2} (1 - q_0) z \\right ] \\right ) + 25$$\n",
    "\n",
    "which we'll write as:\n",
    "\n",
    "$$\\boxed{\\mu = 5\\log_{10} \\left (a_0 z \\left [1 + \\frac{1}{2} (1 - a_1) z \\right ] \\right ) + 25}$$\n",
    "\n",
    "This is a nonlinear expression in terms of the fit parameters, $a_0$, $a_1$.  Once we get $a_0$, we can get Hubble's constant as:\n",
    "\n",
    "$$\\boxed{H_0 = \\frac{c}{a_0 \\cdot 1~\\mbox{Mpc}}}$$\n",
    "\n",
    "---\n",
    "\n",
    "## b. - Fitting low redshift data to measure $H_{0}$\n",
    "\n",
    "### **Individually/with the person next to you**:\n",
    "\n",
    "1. First, use a mask to filter our data to only include data for $z < 0.2$. We will perform our fit on only this low redshift data. \n",
    "\n",
    "We'll use the SciPy fitting [routine](https://docs.scipy.org/doc/scipy/reference/generated/scipy.optimize.least_squares.html) via method of [Least Squares](https://en.wikipedia.org/wiki/Least_squares) for this.  Let's start by writing the [residual,the error in a result](https://en.wikipedia.org/wiki/Residual_(numerical_analysis)) that the fit will use.\n",
    "\n",
    "```\n",
    "def resid(avec, z, mu, dmu):\n",
    "    return (mu - (5 * np.log10(avec[0] * z * (1 + 0.5 * (1 - avec[1]) * z)) + 25)) / dmu\n",
    "```\n",
    "\n",
    "2. import scipy optimize - `from scipy import optimize`\n",
    "3. define the above residual\n",
    "> Here, `avec` is a vector that holds the solutions of our fit - $a_{0}$ and $a_{1}$ from above.\n",
    "4. Pass the inital guess data to the scipy routine, including the errors on mu - `dmu`. \n",
    "5. Use the `[0]` result to return $a_{0}$ from the fit to find $H_0$.\n",
    "6. Plot the raw low redshift together, and overlay the estimated non-linear equation from c. and using the values returned from the fit. "
   ]
  },
  {
   "cell_type": "code",
   "execution_count": null,
   "id": "7d043e8a",
   "metadata": {},
   "outputs": [],
   "source": [
    "# 1 here\n",
    "#low_z_data = ###[## < 0.2]"
   ]
  },
  {
   "cell_type": "code",
   "execution_count": null,
   "id": "06b63781-01f8-467e-a447-b4c485312d50",
   "metadata": {
    "tags": []
   },
   "outputs": [],
   "source": [
    "from scipy import optimize"
   ]
  },
  {
   "cell_type": "code",
   "execution_count": null,
   "id": "9a65d5f8-9840-4bc6-b9f6-9480efbb4908",
   "metadata": {
    "tags": []
   },
   "outputs": [],
   "source": [
    "# 3 here\n",
    "#def resid(avec, z, mu, dmu):\n",
    "#    return (mu - (5 * np.log10(avec[0] * z * (1 + 0.5 * (1 - avec[1]) * z)) + 25)) / dmu"
   ]
  },
  {
   "cell_type": "code",
   "execution_count": null,
   "id": "f1aaae1e-51df-4cb8-b6c4-10a73c74e27a",
   "metadata": {
    "tags": []
   },
   "outputs": [],
   "source": [
    "# 4\n",
    "#c = 3.e5   # km/s \n",
    "#H0_guess = 50   # km/s/Mpc\n",
    "\n",
    "# convert guesses to the avec guesses needed\n",
    "#a0 = c / H0_guess\n",
    "#a1 = 1."
   ]
  },
  {
   "cell_type": "code",
   "execution_count": null,
   "id": "c3ad6e70-0806-44e6-bfb2-0b4a3f5b2997",
   "metadata": {
    "tags": []
   },
   "outputs": [],
   "source": [
    "# 4 result here\n",
    "#result = optimize.least_squares(##, np.array([a0,a1]), ## solve based on the residual, pass initial guesses \n",
    "#                                args = (low_z_data[##], low_z_data[##], low_z_data[##])) ## pass low_z data"
   ]
  },
  {
   "cell_type": "markdown",
   "id": "d7b5b076-4dc4-48b3-8a6c-e20c4c9bd0c0",
   "metadata": {
    "tags": []
   },
   "source": [
    "From this fit, we can recover the Hubble constant:"
   ]
  },
  {
   "cell_type": "code",
   "execution_count": null,
   "id": "f0fea532-9d95-4d5c-990c-656b95eed7db",
   "metadata": {
    "tags": []
   },
   "outputs": [],
   "source": [
    "# 5 here\n",
    "#a0_result, a1_result = result.x\n",
    "#H0_result = ## second boxed eqn\n",
    "#H0_result"
   ]
  },
  {
   "cell_type": "markdown",
   "id": "06569c69-3b32-4368-92ae-014381290559",
   "metadata": {},
   "source": [
    "We should find a reasonable value of $H_0 = 69.6~\\mathrm{km/s/Mpc}$."
   ]
  },
  {
   "cell_type": "code",
   "execution_count": null,
   "id": "e1b36690",
   "metadata": {},
   "outputs": [],
   "source": [
    "# 6 here\n",
    "#plt.title('$H_{0,fit}$='+str(round(H0_result,3))+' (km/s/Mpc)')\n",
    "\n",
    "# plot raw data (like above)\n",
    "#plt.errorbar(low_z_data[##], low_z_data[##], \n",
    "#             yerr = low_z_data[##],fmt = 'd',color='pink',alpha=0.5)\n",
    "\n",
    "# create redshift array for plotting the fit\n",
    "#z = np.linspace(0.01,0.2,100)\n",
    "\n",
    "# our first boxed equation above - using fit results from avec\n",
    "#mu_fit = #\n",
    "\n",
    "\n",
    "#plt.plot(z,mu_fit,color='dodgerblue',lw=2)\n",
    "#plt.ylabel('Distance Modulus')\n",
    "#plt.xlabel('Redshift')"
   ]
  },
  {
   "cell_type": "markdown",
   "id": "d5601e95",
   "metadata": {},
   "source": [
    "### **With your larger group, try to answer the following**:\n",
    "\n",
    "1. What does it mean to to be used as a _Standard Candle_ in astronomy?\n",
    "\n",
    "> Respond here.\n",
    "\n",
    "2. Are Type Ia supernovae considered _Standard Candles_ in astronomy? Why or why not?\n",
    "\n",
    "> Respond here.\n",
    "\n",
    "3. What physically might contribute to the peak luminosity of a Type Ia supernovae?\n",
    "\n",
    "> Hint: Chandrasehkar Mass limit\n",
    "\n",
    "> Respond here."
   ]
  }
 ],
 "metadata": {
  "kernelspec": {
   "display_name": "Python 3 (ipykernel)",
   "language": "python",
   "name": "python3"
  },
  "language_info": {
   "codemirror_mode": {
    "name": "ipython",
    "version": 3
   },
   "file_extension": ".py",
   "mimetype": "text/x-python",
   "name": "python",
   "nbconvert_exporter": "python",
   "pygments_lexer": "ipython3",
   "version": "3.11.8"
  }
 },
 "nbformat": 4,
 "nbformat_minor": 5
}
