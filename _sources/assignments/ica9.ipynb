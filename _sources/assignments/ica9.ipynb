{
 "cells": [
  {
   "cell_type": "markdown",
   "metadata": {
    "user_expressions": []
   },
   "source": [
    "# In-Class Assignment 9\n",
    "\n",
    "## Stellar Energy Sources\n",
    "\n",
    "### Learning Objectives\n",
    "\n",
    "- explore thermonuclear burning in various stellar models\n",
    "- identify the dominant burning sources in stars during H-burning \n",
    "- compare crossover times in dominant burning categories\n",
    "- visualizing main-sequence stellar models using `tulips`"
   ]
  },
  {
   "cell_type": "markdown",
   "metadata": {},
   "source": [
    "To produce plots in the optional exercises we will use [mesaplot](https://github.com/rjfarmer/mesaplot) and [Tulips - _A Tool for Understanding the Lives, Interiors, and Physics of Stars_](https://astro-tulips.readthedocs.io/en/latest/index.html) and the Paper [here](https://www.sciencedirect.com/science/article/pii/S2213133721000688?via%3Dihub). Install each by performing the following commands to install them using `pip`:\n",
    "\n",
    "\n",
    "[**mesaPlot**](https://github.com/rjfarmer/mesaplot)\n",
    "\n",
    "````{note}\n",
    "`mesaplot` is not available on PyPI, so it can be installed using `pip` as:\n",
    "```\n",
    "pip install git+https://github.com/rjfarmer/mesaplot\n",
    "```\n",
    "````\n",
    "\n",
    "[**Tulips** Installation](https://astro-tulips.readthedocs.io/en/latest/installation.html)\n",
    "\n",
    "````{note}\n",
    "`py_mesa_reader` is not available on PyPI, so it can be installed using `pip` as:\n",
    "```\n",
    "pip install astro-tulips\n",
    "```\n",
    "````"
   ]
  },
  {
   "cell_type": "code",
   "execution_count": null,
   "metadata": {
    "tags": []
   },
   "outputs": [],
   "source": [
    "import numpy as np\n",
    "import matplotlib.pyplot as plt\n",
    "import pandas as pd\n",
    "\n",
    "# only uncomment if you were able to successfully install\n",
    "#import tulips\n",
    "\n",
    "# note the capital `P`\n",
    "#import mesaPlot as mp\n",
    "\n",
    "### only try below if imports above to not work\n",
    "##import sys \n",
    "# you may have to run the below, try importing without first\n",
    "# this will be different for you, find its location using `pip show mesaplot`\n",
    "## sys.path.append('/opt/anaconda3/lib/python3.11/site-packages/mesaPlot') "
   ]
  },
  {
   "cell_type": "markdown",
   "metadata": {
    "user_expressions": []
   },
   "source": [
    "## a. Thermonuclear Burning Accross Mass Ranges\n",
    "\n",
    "Download the following model files locally:\n",
    "\n",
    "* $1 M_\\odot$: [1m_h_dep_history.data](data/1m_h_dep_history.data);\n",
    "\n",
    "* $3 M_\\odot$: [3m_h_dep_history.data](data/3m_h_dep_history.data);\n",
    "\n",
    "* $20 M_\\odot$: [20m_he_dep_history.data](data/20m_he_dep_history.data);\n",
    "\n",
    "\n",
    "Then, using the $1 M_\\odot$ and $3M_\\odot$ model MESA history data: \n",
    "\n",
    "1. Plot the log nuclear energy generation rate ($\\epsilon_{\\rm{nuc}}$) for the `pp` and `cno` burning categories as a function of the `model_number` (x-axis) to determine which dominates in each model. \n",
    "\n",
    "> Note: The variables `pp` and `cno` are $\\rm{log}_{10}(\\epsilon_{\\rm{nuc,pp}})$ etc. \n",
    "\n",
    "2. To help guide follow the temporal evolution, also plot the `center_h1` as a function of model number for both models on the same plot and _label_.\n",
    "\n",
    "> Set your ylim to (-2,) - when you leave the upper limit unset it will auto set the ymax. \n",
    "\n",
    "3. Identify the approximate `model_number` where the dominant burning crossover occurs for the $3M_{\\odot}$ model and plot a vertical line (`plt.axvline`) denoting this on the same plot. \n",
    "\n",
    "4. On a **new** plot, plot $\\textrm{log}~(\\epsilon_{\\rm{nuc}}/\\rho X^2)$ as a function of the central $T_{6,c}$ ($T_{c}/T^{6}\\rm{K}$). \n",
    "\n",
    "> Hint: Set xlim to (5,30) and ylim to (-6,6)\n",
    "\n",
    "5. On this plot, plot the approximate central $T_{6}$ where the `CNO` burning category begins to dominate and label using `plt.axvline`.\n",
    "\n",
    "6. Lastly, print the central $T_{6}$ at the model number for the $3M_{\\odot}$ model found for the crossover in part 3. Do they match?\n",
    "\n",
    "7. In a few sentences, describe the dominant burning category for the 1M model and 3M models based off these two plots. \n",
    "\n",
    "> Hint: Compare with HKT Figure 6.10!"
   ]
  },
  {
   "cell_type": "code",
   "execution_count": null,
   "metadata": {
    "scrolled": true
   },
   "outputs": [],
   "source": [
    "## load MESA data here\n",
    "#one_m_ms_history = pd.read_csv('###',sep=r'\\s+',header=4)\n",
    "#three_m_ms_history = pd.read_csv('####\n",
    "#list(one_m_ms_history)"
   ]
  },
  {
   "cell_type": "code",
   "execution_count": null,
   "metadata": {},
   "outputs": [],
   "source": [
    "# load one m burning info here\n",
    "#one_m_ms_model_number = one_m_ms_history['###  # model number\n",
    "#one_m_ms_pp = ### eps_nuc due to pp chains\n",
    "#one_m_ms_cno = # eps_nuc due to cno chains\n",
    "#one_m_ms_center_h1 = one_m_ms_history['##\n",
    "\n",
    "# load three m burning info here"
   ]
  },
  {
   "cell_type": "code",
   "execution_count": null,
   "metadata": {},
   "outputs": [],
   "source": [
    "## 1-3 result here\n",
    "#plt.title('1$M_\\odot$ and 3$M_\\odot$ MESA Models During H-burning')\n",
    "\n",
    "#plt.plot(##,\n",
    "         ##,label=r'$1M_\\odot - pp-chains$')\n",
    "\n",
    "#plt.plot(##\n",
    "         ##,label=r'$1M_\\odot - CNO-chains$')\n",
    "\n",
    "#plt.plot(##\n",
    "         ##,label=r'$1M_\\odot - ^{1}\\rm{H}$')\n",
    "\n",
    "\n",
    "#plt.axvline(###,lw=1,color='goldenrod',ls='-.') ## crossover model number\n",
    "\n",
    "#plt.ylim(\n",
    "\n",
    "\n",
    "#plt.legend()\n",
    "#plt.xlabel(r'$\\rm{Model \\ Number}$')\n",
    "#plt.ylabel(r'$\\rm{log}_{10} (\\epsilon_{\\rm{nuc}}) \\ (\\rm{erg \\ g}^{-1} \\ \\rm{s}^{-1})$')"
   ]
  },
  {
   "cell_type": "code",
   "execution_count": null,
   "metadata": {},
   "outputs": [],
   "source": [
    "# load central rho and T here\n",
    "#one_m_ms_center_T = 10**(### central T\n",
    "#three_m_ms_center_T = 10**(### central T\n",
    "\n",
    "#one_m_ms_center_rho = 10**(### central rho\n",
    "#three_m_ms_center_rho = 10**(### central rho"
   ]
  },
  {
   "cell_type": "code",
   "execution_count": null,
   "metadata": {},
   "outputs": [],
   "source": [
    "## 4 result here\n",
    "#plt.title('1$M_\\odot$ and 3$M_\\odot$ MESA Models During H-burning')\n",
    "\n",
    "#plt.plot(##/1e6,\n",
    "#         np.log10(##),label=r'$1M_\\odot - pp$')\n",
    "\n",
    "#plt.plot(##/1e6,\n",
    "#         np.log10(##),label=r'$1M_\\odot - CNO$')\n",
    "\n",
    "# approximate present location of the Sun\n",
    "#plt.text(15, -5.5, \"⊙\")\n",
    "\n",
    "#plt.axvline(##,color='dodgerblue',lw=1,ls='-.')\n",
    "\n",
    "#plt.ylim(\n",
    "#plt.xlim(\n",
    "\n",
    "#plt.legend()\n",
    "#plt.ylabel(r'$\\rm{log}~\\epsilon_{\\rm{nuc}}/\\rho X^2$')\n",
    "#plt.xlabel(r'$T_{6,\\rm{central}}$')"
   ]
  },
  {
   "cell_type": "code",
   "execution_count": null,
   "metadata": {},
   "outputs": [],
   "source": [
    "# compute approximate crossover temperature here\n",
    "#crossover_index = np.where(three_m_ms_history['model_number']==XXX)[0]\n",
    "#print(crossover_index,three_m_ms_center_T[crossover_index]/1e6)"
   ]
  },
  {
   "cell_type": "markdown",
   "metadata": {},
   "source": [
    "> In a few sentences, describe the dominant burning category for the 1M model and 3M models based off these two plots. Does the approximate crossover point match your estimates from Plot 1 and 2? \n",
    "\n",
    "Your thoughtful answer here."
   ]
  },
  {
   "cell_type": "markdown",
   "metadata": {},
   "source": [
    "## b. Thermonuclear Burning In a Massive Star\n",
    "\n",
    "Using the $20M_\\odot$ model MESA history data (`20m_he_dep_history.data`):\n",
    "\n",
    "1. Plot the log nuclear energy generation rate ($\\epsilon_{\\rm{nuc}}$) for the `pp` and `cno` burning categories as a function of the `model_number` (x-axis) to determine which dominates in each model. \n",
    "\n",
    "> Set your xlim to (370,600) to focus on the main-sequency\n",
    "\n",
    "2. To help guide follow the temporal evolution, also plot the `center_h1` as a function of model number for both models on the same plot and _label_.\n",
    "\n",
    "> Are there any crossover points observed in this model between dominant burning categories?\n",
    "\n",
    "3. Plot $\\textrm{log}~(\\epsilon_{\\rm{nuc}}/\\rho X^2)$ as a function of the central $T_{6,c}$ ($T_{c}/T^{6}\\rm{K}$) for both categories.\n",
    "\n",
    "> Hint: set xlim to (30,100)\n",
    "\n",
    "4. Conclude the dominant burning source on the main-sequence and state if there are any crossover points in a few words.\n"
   ]
  },
  {
   "cell_type": "code",
   "execution_count": null,
   "metadata": {},
   "outputs": [],
   "source": [
    "# load 20m data\n",
    "#twenty_m_ms_history = pd.read_csv('###',sep=r'\\s+',header=4)\n",
    "#twenty_m_ms_model_number = twenty_m_ms_history['### model number\n",
    "#twenty_m_ms_pp = ### eps_nuc due to pp chains"
   ]
  },
  {
   "cell_type": "code",
   "execution_count": null,
   "metadata": {},
   "outputs": [],
   "source": [
    "## 1-3 result here\n",
    "#plt.title('20$M_\\odot$ MESA Models During H-burning')\n",
    "\n",
    "#plt.plot(,label=r'$20M_\\odot - pp-chains$')\n",
    "\n",
    "#plt.plot(,label=r'$20M_\\odot - CNO-chains$')\n",
    "\n",
    "#plt.plot(,label=r'$20M_\\odot - ^{1}\\rm{H}$')\n",
    "\n",
    "#plt.ylim(\n",
    "#plt.xlim(\n",
    "\n",
    "#plt.legend()\n",
    "#plt.xlabel(r'$\\rm{Model \\ Number}$')\n",
    "#plt.ylabel(r'$\\epsilon_{\\rm{nuc}} \\ (\\rm{erg \\ g}^{-1} \\ \\rm{s}^{-1})$')"
   ]
  },
  {
   "cell_type": "code",
   "execution_count": null,
   "metadata": {},
   "outputs": [],
   "source": [
    "#twenth_m_ms_center_T = 10**(twenty_m_ms_history['log_center_T']) # central T\n",
    "#twenty_m_ms_center_rho = 10**(twenty_m_ms_history['log_center_Rho']) # central rho"
   ]
  },
  {
   "cell_type": "code",
   "execution_count": null,
   "metadata": {},
   "outputs": [],
   "source": [
    "## 4 result here\n",
    "#plt.title('20$M_\\odot$ MESA Models During H-burning')\n",
    "\n",
    "#plt.plot(#\n",
    "#         label=r'$20M_\\odot - pp$')\n",
    "\n",
    "#plt.plot(,\n",
    "#         label=r'$20M_\\odot - CNO$')\n",
    "\n",
    "\n",
    "#plt.xlim(30,\n",
    "\n",
    "#plt.legend()\n",
    "#plt.ylabel(r'$\\rm{log}~\\epsilon_{\\rm{nuc}}/\\rho X^2$')\n",
    "#plt.xlabel(r'$T_{6,\\rm{central}}$')"
   ]
  },
  {
   "cell_type": "markdown",
   "metadata": {},
   "source": [
    "## c. (Optional!) Visualizing the Main-Sequence using Tulips\n",
    "\n",
    "Import `tulips` and `mesaPlot` here if you did not import above and then:\n",
    "\n",
    "\n",
    "Download this $1M_{\\odot}$ model evolved from MS to this H-shell burning phase:\n",
    "\n",
    "* $1 M_\\odot$: [1m_thermohaline_history.data](data/1m_thermohaline_history.data);\n",
    "\n",
    "1. Create a folder in your `data` directory or anywhere really, named `tulips` and **copy** your `1m_thermohaline_history.data` into the directory and rename it as `history.data`.\n",
    "\n",
    "2. Then set your directory path for tulips. It will look in this directory for a file called `history.data`.\n",
    "\n",
    "3. Create your data object for analysis using `mesaPlot`: \n",
    "\n",
    "```\n",
    "m1 = mp.MESA()\n",
    "```\n",
    "\n",
    "4. Load the history data using this object:\n",
    "\n",
    "```\n",
    "m1.loadHistory(f=`YOUR_PATH_NAME`)\n",
    "```\n",
    "\n",
    "5. Now, using `tulips` to produce an `energy_and_mixing` plot using your history data. It will create a series of these plots based on your defined step size `N`.\n",
    "\n",
    "6. Lastly, open and view the plot, can you identify where the model is convective or radiative on the main-sequence?\n",
    "\n",
    "7. (Bonus), Can you see when are where the model experiences thermohaline/double diffusive mixing?"
   ]
  },
  {
   "cell_type": "code",
   "execution_count": null,
   "metadata": {},
   "outputs": [],
   "source": [
    "## 1- 4 here\n",
    "#SINGLE_M1_DIR = \"./data/tulips\"  ## the location of your renamed `history.data` file\n",
    "\n",
    "#m1 = mp.MESA()\n",
    "#m1.loadHistory(f=SINGLE_M1_DIR) # load the history data file for plotting\n",
    "#N = 1 # series index"
   ]
  },
  {
   "cell_type": "code",
   "execution_count": null,
   "metadata": {},
   "outputs": [],
   "source": [
    "# compute and plot the viz\n",
    "#tulips.energy_and_mixing(m1, time_ind=(0,-1, N), fps=10, fig_size=(8,6),\n",
    "#                         show_total_mass=True,show_hrd_ticks_and_labels=True, show_mix=True, show_mix_legend=True, \n",
    "#                         output_fname=\"energy_and_mixing\")\n",
    "#plt.show()"
   ]
  },
  {
   "cell_type": "code",
   "execution_count": null,
   "metadata": {},
   "outputs": [],
   "source": [
    "# open and watch the visualization here\n",
    "#from IPython.display import Video\n",
    "\n",
    "#Video(\"energy_and_mixing.mp4\", embed=True, width=700, height=600)"
   ]
  },
  {
   "cell_type": "markdown",
   "metadata": {},
   "source": [
    "Your thoughtful response to 6 (and 7 possibly) here."
   ]
  }
 ],
 "metadata": {
  "kernelspec": {
   "display_name": "Python 3 (ipykernel)",
   "language": "python",
   "name": "python3"
  },
  "language_info": {
   "codemirror_mode": {
    "name": "ipython",
    "version": 3
   },
   "file_extension": ".py",
   "mimetype": "text/x-python",
   "name": "python",
   "nbconvert_exporter": "python",
   "pygments_lexer": "ipython3",
   "version": "3.11.8"
  }
 },
 "nbformat": 4,
 "nbformat_minor": 4
}
