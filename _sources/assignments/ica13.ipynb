{
 "cells": [
  {
   "cell_type": "markdown",
   "metadata": {
    "user_expressions": []
   },
   "source": [
    "# In-Class Assignment 13\n",
    "\n",
    "## ZAMS and Evolution on The Main-Sequence\n",
    "\n",
    "### Learning Objectives\n",
    "\n",
    "- explore surface stellar properties at ZAMS through the main-sequence\n",
    "- explore central stellar properties at ZAMS through the main-sequence\n",
    "- produce and analyze perceived color plots using tulips"
   ]
  },
  {
   "cell_type": "code",
   "execution_count": null,
   "metadata": {
    "tags": []
   },
   "outputs": [],
   "source": [
    "import numpy as np\n",
    "import matplotlib.pyplot as plt\n",
    "import pandas as pd"
   ]
  },
  {
   "cell_type": "markdown",
   "metadata": {},
   "source": [
    "## a. ZAMS and Evolution on the Main-Sequence\n",
    "\n",
    "### **Individually/ with the person next to you**:\n",
    "\n",
    "Download, or reuse from a previous class:\n",
    "\n",
    "* $1 M_\\odot$ history data: [M1_default_trimmed_history.data](data/M1_default_trimmed_history.data);\n",
    "\n",
    "* $5 M_\\odot$ history data: [5m_history.data](data/5m_history.data);\n",
    "\n",
    "* $11 M_\\odot$ history data: [11m_subsolar_history.data](data/11m_subsolar_history.data);\n",
    "\n",
    "Using the all three MESA history data:\n",
    "\n",
    "1. Compute the index at which the star reaches the zero age main-sequence, in MESA this is defined as \n",
    "\n",
    "```\n",
    " L_nuc_burn_total >= s% L_phot*s% Lnuc_div_L_zams_limit\n",
    "```\n",
    "\n",
    "where a value `Lnuc_div_L_zams_limit=0.99`.\n",
    "\n",
    "\n",
    "2. Compute the index at which the star reaches the _terminal_ age main-sequence, that is when it has depleted or reached a central value of about $X_{\\rm{c}}({^{1}\\rm{H}})\\lesssim 10^{-3}$.\n",
    "\n",
    "\n",
    "3. Plot the an HR diagram x-axis ($\\textrm{log}T_{\\rm{eff.}}$) versus y axis ($\\textrm{log}L$) only over the range from idx ZAMS to idx TAMS. [Reference for indexing in Python](https://www.geeksforgeeks.org/python/how-to-index-and-slice-strings-in-python/).\n",
    "\n",
    "> Hint: the sytax would be like [one_m_ZAMS_idx : one_m_TAMS_idx] at the end of each array you plot. \n",
    "\n",
    "> Hint:  Compare with Pols Figure 9.9."
   ]
  },
  {
   "cell_type": "code",
   "execution_count": null,
   "metadata": {
    "scrolled": false
   },
   "outputs": [],
   "source": [
    "# load data with pandas\n",
    "#one_m_ms_history = pd.read_csv('data/M1_default_trimmed_history.data',sep=r'\\s+',header=4)\n",
    "#five_m_ms_history = pd.read_csv('data/5m_history.data',sep=r'\\s+',header=4)\n",
    "#eleven_m_ms_history = pd.read_csv('data/11m_subsolar_history.data',sep=r'\\s+',header=4)\n",
    "#list(one_m_ms_history)"
   ]
  },
  {
   "cell_type": "code",
   "execution_count": null,
   "metadata": {},
   "outputs": [],
   "source": [
    "#Lnuc_div_L_zams_limit = \n",
    "#center_h1_lim = "
   ]
  },
  {
   "cell_type": "code",
   "execution_count": null,
   "metadata": {},
   "outputs": [],
   "source": [
    "### 1 m sun vars\n",
    "#one_m_ms_history_logTeff = one_m_ms_history['##'] # log Teff\n",
    "#one_m_ms_history_logL = one_m_ms_history['##'] # log L\n",
    "#one_m_ms_history_logLH = one_m_ms_history['##'] # log LH (log Lnuc)\n",
    "#one_m_ms_history_h1 = one_m_ms_history['##'] # central h1 mass fraction\n",
    "\n",
    "# use np where to get the index at start of ZAMS and end of MS (TAMS)\n",
    "#one_m_ZAMS_idx_array = np.where(one_m_ms_history_logLH > Lnuc_div_L_zams_limit * one_m_ms_history_logL)[0]\n",
    "#one_m_ZAMS_idx = one_m_ZAMS_idx_array[0]\n",
    "#one_m_TAMS_idx_array = np.where(one_m_ms_history_h1 < center_h1_lim)[0]\n",
    "#one_m_TAMS_idx = one_m_TAMS_idx_array[0]\n",
    "#print(one_m_ZAMS_idx,one_m_TAMS_idx)\n",
    "\n",
    "\n",
    "### 5 m sun vars\n",
    "#five_m_ms_history_logTeff = five_m_ms_history['#'] # log Teff\n",
    "#five_m_ms_history_logL = five_m_ms_history['##'] # log L\n",
    "#five_m_ms_history_logLH = five_m_ms_history['###'] # log LH (log Lnuc)\n",
    "#five_m_ms_history_h1 = five_m_ms_history['##'] # central h1 mass fraction\n",
    "\n",
    "#five_m_ZAMS_idx_array = np.where(five_m_ms_history_logLH > Lnuc_div_L_zams_limit * five_m_ms_history_logL)[0]\n",
    "#five_m_ZAMS_idx = five_m_ZAMS_idx_array[0]\n",
    "#five_m_TAMS_idx_array = np.where(five_m_ms_history_h1 < center_h1_lim)[0]\n",
    "#five_m_TAMS_idx = five_m_TAMS_idx_array[0]\n",
    "#print(five_m_ZAMS_idx,five_m_TAMS_idx)\n",
    "\n",
    "### 11 m sun vars\n",
    "#eleven_m_ms_history_logTeff = eleven_m_ms_history['##'] # log Teff\n",
    "#eleven_m_ms_history_logL = eleven_m_ms_history['##'] # log L\n",
    "#eleven_m_ms_history_logLH = eleven_m_ms_history['##'] # log LH (log Lnuc)\n",
    "#eleven_m_ms_history_h1 = eleven_m_ms_history['##'] # central h1 mass fraction\n",
    "\n",
    "#eleven_m_ZAMS_idx_array = np.where(eleven_m_ms_history_logLH > Lnuc_div_L_zams_limit * eleven_m_ms_history_logL)[0]\n",
    "#eleven_m_ZAMS_idx = eleven_m_ZAMS_idx_array[0]\n",
    "#eleven_m_TAMS_idx_array = np.where(eleven_m_ms_history_h1 < center_h1_lim)[0]\n",
    "#eleven_m_TAMS_idx = eleven_m_TAMS_idx_array[0]\n",
    "#print(eleven_m_ZAMS_idx,eleven_m_TAMS_idx)"
   ]
  },
  {
   "cell_type": "code",
   "execution_count": null,
   "metadata": {},
   "outputs": [],
   "source": [
    "## 1-2 result here\n",
    "#plt.title('MESA Models HR Diagram from ZAMS to TAMS')\n",
    "\n",
    "#plt.plot(one_m_var[one_m_ZAMS_idx:one_m_TAMS_idx],\n",
    "#         one_m_var[one_m_ZAMS_idx:one_m_TAMS_idx],label=r'$1M_{\\odot}$')\n",
    "\n",
    "#plt.plot(five_m_var[five_m_ZAMS_idx:five_m_TAMS_idx],\n",
    "#         five_m_var[five_m_ZAMS_idx:five_m_TAMS_idx],label=r'$5M_{\\odot}$')\n",
    "\n",
    "#plt.plot(eleven_m_var[eleven_m_ZAMS_idx:eleven_m_TAMS_idx],\n",
    "#         eleven_m_var[eleven_m_ZAMS_idx:eleven_m_TAMS_idx],label=r'$11M_{\\odot}$')\n",
    "\n",
    "#plt.gca().invert_xaxis()\n",
    "\n",
    "#plt.legend()\n",
    "#plt.xlabel(r'$\\rm{log}_{10}~T_{\\rm{eff}}~(\\rm{K})$')\n",
    "#plt.ylabel(r'$\\rm{log}~L \\ (L_{\\odot})$')"
   ]
  },
  {
   "cell_type": "markdown",
   "metadata": {},
   "source": [
    "### **With your larger group, try to answer the following**:\n",
    "\n",
    "5. Describe the qualitative properties of the 3 stellar models while on the main-sequence.\n",
    "\n",
    "> Your groups thoughtful response.\n",
    "\n",
    "6. Why might the change in radius of the 1 Msun model be modest in comparison to the more massive models?\n",
    "\n",
    "> Hint: Pols Eqn 9.14.\n",
    "\n",
    "> Your groups thoughtful response.\n",
    "\n",
    "7. Why do the more massive star models go to the right on the HRD before turning left (blueward) before hydrogen depletion? What is happening to the core at this time?\n",
    "\n",
    "> Your groups thoughtful response.\n",
    "\n",
    "8. The core at its blueist point in the HRD, eventually reaches a new hydrostatic equilibrium with the now H depleted core and a new energy source (prior to Core He Burning.). What might be this energy source be and where is it located?\n",
    "\n",
    "> Your groups thoughtful response."
   ]
  },
  {
   "cell_type": "markdown",
   "metadata": {},
   "source": [
    "## b. Structure Evolution on the Main-Sequence\n",
    "\n",
    "### **Individually/ with the person next to you**:\n",
    "\n",
    "Using only the $5M_{\\odot}$ MESA history data:\n",
    "\n",
    "1. Plot the central mean molecular weight (`mu`), $\\rho$, $T$, $R$ at the surface, and $L_{\\rm{nuc.,H}}$ as a function of model number, all normalized by their values at ZAMS.\n",
    "\n",
    "> Hint: the sytax would be like [one_m_ZAMS_idx : one_m_TAMS_idx] at the end of each array you plot. \n",
    "\n",
    "> Hint:  Compare with Pols Figure 9.9 "
   ]
  },
  {
   "cell_type": "code",
   "execution_count": null,
   "metadata": {},
   "outputs": [],
   "source": [
    "# spaghetti code thats not important\n",
    "#five_m_ms_history_center_P_norm = 10**(five_m_ms_history['log_center_P'])/10**(five_m_ms_history['log_center_P'][five_m_ZAMS_idx]) # central P\n",
    "#five_m_ms_history_center_T_norm = 10**(five_m_ms_history['log_center_T'])/10**(five_m_ms_history['log_center_T'][five_m_ZAMS_idx]) # central T\n",
    "#five_m_ms_history_surface_R_norm = 10**(five_m_ms_history['log_R'])/10**(five_m_ms_history['log_R'][five_m_ZAMS_idx]) # surface R (Rsun)\n",
    "#five_m_ms_history_center_mu_norm = five_m_ms_history['center_mu']/five_m_ms_history['center_mu'][five_m_ZAMS_idx] # central mu\n",
    "#five_m_ms_history_model_number = five_m_ms_history['model_number'] # model_number\n",
    "#five_m_ms_history_log_LH_norm = 10**(five_m_ms_history['log_LH'])/10**(five_m_ms_history['log_LH'][five_m_ZAMS_idx]) # log_LH"
   ]
  },
  {
   "cell_type": "code",
   "execution_count": null,
   "metadata": {},
   "outputs": [],
   "source": [
    "## 1-2 result here\n",
    "#plt.title('5$M_{\\odot}$ Structure Properties from ZAMS to TAMS')\n",
    "\n",
    "#plt.plot(five_m_ms_history_model_number[five_m_ZAMS_idx:five_m_TAMS_idx],\n",
    "#         five_m_ms_history_center_mu_norm[five_m_ZAMS_idx:five_m_TAMS_idx],\n",
    "#         label=r'$\\mu$')\n",
    "\n",
    "#plt.plot(five_m_ms_history_model_number[five_m_ZAMS_idx:five_m_TAMS_idx],\n",
    "#         five_m_ms_history_center_P_norm[five_m_ZAMS_idx:five_m_TAMS_idx],\n",
    "#         label=r'$P_{\\rm{c}}$')\n",
    "\n",
    "#plt.plot(five_m_ms_history_model_number[five_m_ZAMS_idx:five_m_TAMS_idx],\n",
    "#         five_m_ms_history_center_T_norm[five_m_ZAMS_idx:five_m_TAMS_idx],\n",
    "#         label=r'$T_{\\rm{c}}$')\n",
    "\n",
    "#plt.plot(five_m_ms_history_model_number[five_m_ZAMS_idx:five_m_TAMS_idx],\n",
    "#         five_m_ms_history_log_LH_norm[five_m_ZAMS_idx:five_m_TAMS_idx],\n",
    "#         label=r'$L_{\\rm{H}}$')\n",
    "\n",
    "#plt.plot(five_m_ms_history_model_number[five_m_ZAMS_idx:five_m_TAMS_idx],\n",
    "#         five_m_ms_history_surface_R_norm[five_m_ZAMS_idx:five_m_TAMS_idx],\n",
    "#         label=r'$R$')\n",
    "\n",
    "#plt.xlim()\n",
    "\n",
    "#plt.legend()\n",
    "#plt.xlabel(r'$\\rm{Model \\ Number}$')\n",
    "#plt.ylabel(r'$\\rm{Variable \\ Normalized \\ by \\ ZAMS \\ Value}$')"
   ]
  },
  {
   "cell_type": "markdown",
   "metadata": {},
   "source": [
    "### **With your larger group, try to answer the following**:\n",
    "\n",
    "\n",
    "2. What does the above plot show and why might it be important to our understanding of stars on the MS?\n",
    "\n",
    "> Your groups thoughtful response.\n",
    "\n",
    "3. Describe in a few sentences the qualitative properties of the core (or central) values on the main-sequence.\n",
    "\n",
    "> Your groups thoughtful response.\n",
    "\n",
    "4. The radius at the surface peaks at some point on the MS, does this relate to your result from 7a. If so, how? What is happening to mu at this inflection point?\n",
    "\n",
    "> Your groups thoughtful response.\n",
    "\n",
    "5. What is happening to mu at this inflection point of the radius?\n",
    "\n",
    "> Your groups thoughtful response.\n",
    "\n",
    "6. Eventually the star with proceed with a inert He core overlaid with a thick H-burning shell. What might you expect that to to mean for the surface radius? What trajectory would the star take when this shell is formed?\n",
    "\n",
    "> Your groups thoughtful response."
   ]
  },
  {
   "cell_type": "markdown",
   "metadata": {},
   "source": [
    "## c. Perceived color diagram on the MS using `Tulips`\n",
    "\n",
    "\n",
    "[**Perceived Color**](https://astro-tulips.readthedocs.io/en/latest/perceived_color_diagram.html)\n",
    "> The color is determined using the colorpy package, which approximates the spectrum of a star using its effective temperature. According to the 1931 color matching functions of the Commission Internationale de l’Eclairage, this spectrum is converted to the approximate RGB color the human eye will perceive.\n",
    "\n",
    "\n",
    "### **Individually/ with the person next to you**:\n",
    "\n",
    "1. In your current working directory create a folder called `LOGS`.\n",
    "\n",
    "1. Copy your `5m_history.data` into this directory and rename it `history.data`. It will look in this directory for a file called `history.data`.\n",
    "\n",
    "3. Create your data object for analysis using `mesaPlot`: \n",
    "\n",
    "```\n",
    "m5 = mp.MESA()\n",
    "```\n",
    "\n",
    "4. Load the history data using this object:\n",
    "\n",
    "```\n",
    "m5.loadHistory(filename_in=`YOUR_PATH_NAME`+ \"history.data\")\n",
    "```\n",
    "\n",
    "5. Now, using `tulips` to produce an `perceived_color` [plot](https://astro-tulips.readthedocs.io/en/latest/perceived_color_diagram.html) using your history data. It will create a series of these plots based on your defined step size `N`."
   ]
  },
  {
   "cell_type": "code",
   "execution_count": null,
   "metadata": {},
   "outputs": [],
   "source": [
    "# only uncomment if you were able to successfully install\n",
    "#import tulips\n",
    "\n",
    "# note the capital `P`\n",
    "#import mesaPlot as mp"
   ]
  },
  {
   "cell_type": "code",
   "execution_count": null,
   "metadata": {},
   "outputs": [],
   "source": [
    "# Specify  directory of MESA model\n",
    "#SINGLE_M11_DIR = \"../../tulips/MESA_DIR_EXAMPLE/\"\n",
    "#SINGLE_M5_DIR = \"./data/LOGS/\"\n",
    "\n",
    "#m5 = mp.MESA()\n",
    "#m5.loadHistory(filename_in=SINGLE_M5_DIR + \"history.data\")\n",
    "\n",
    "#idx_low = 0\n",
    "#idx_upper = 400 \n",
    "#N = 2 "
   ]
  },
  {
   "cell_type": "code",
   "execution_count": null,
   "metadata": {},
   "outputs": [],
   "source": [
    "#tulips.perceived_color(m5, time_ind=(idx_low, idx_upper , N), \n",
    "#                       fps=10, output_fname=\"perceived_color\", fig_size=(10, 8))\n",
    "#plt.show()"
   ]
  },
  {
   "cell_type": "code",
   "execution_count": null,
   "metadata": {},
   "outputs": [],
   "source": [
    "#from IPython.display import Video\n",
    "\n",
    "#Video(\"perceived_color.mp4\", embed=True, width=700, height=600)"
   ]
  },
  {
   "cell_type": "markdown",
   "metadata": {},
   "source": [
    "### **With your larger group, try to answer the following**:\n",
    "\n",
    "5. Using the perceived color plot, discuss and identify the impact on the color of the star once the thick H-shell has been formed and its evolution in the HRD. That is, over which frames/time in the visualzation is the star undergoing thick H-shell burning.\n",
    "\n",
    "> Hint: Start by idenifying the ZAMS and TAMS (including when our R reaches a max before contracting again).\n",
    "\n",
    "> Your groups thoughtful response."
   ]
  },
  {
   "cell_type": "code",
   "execution_count": null,
   "metadata": {},
   "outputs": [],
   "source": []
  }
 ],
 "metadata": {
  "kernelspec": {
   "display_name": "Python 3 (ipykernel)",
   "language": "python",
   "name": "python3"
  },
  "language_info": {
   "codemirror_mode": {
    "name": "ipython",
    "version": 3
   },
   "file_extension": ".py",
   "mimetype": "text/x-python",
   "name": "python",
   "nbconvert_exporter": "python",
   "pygments_lexer": "ipython3",
   "version": "3.11.8"
  }
 },
 "nbformat": 4,
 "nbformat_minor": 4
}
