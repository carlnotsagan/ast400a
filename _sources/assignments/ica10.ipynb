{
 "cells": [
  {
   "cell_type": "markdown",
   "metadata": {
    "user_expressions": []
   },
   "source": [
    "# In-Class Assignment 10\n",
    "\n",
    "## Stellar Energy Sources II\n",
    "\n",
    "### Learning Objectives\n",
    "\n",
    "- identify the dominant burning sources in stars during H-burning in a massive star\n",
    "- explore He-burning in a massive star\n",
    "- visualizing main-sequence stellar models using `tulips`"
   ]
  },
  {
   "cell_type": "markdown",
   "metadata": {},
   "source": [
    "To produce plots in the optional exercises we will use [mesaplot](https://github.com/rjfarmer/mesaplot) and [Tulips - _A Tool for Understanding the Lives, Interiors, and Physics of Stars_](https://astro-tulips.readthedocs.io/en/latest/index.html) and the Paper [here](https://www.sciencedirect.com/science/article/pii/S2213133721000688?via%3Dihub). Install each by performing the following commands to install them using `pip`:\n",
    "\n",
    "\n",
    "[**mesaPlot**](https://github.com/rjfarmer/mesaplot)\n",
    "\n",
    "````{note}\n",
    "`mesaplot` is not available on PyPI, so it can be installed using `pip` as:\n",
    "```\n",
    "pip install git+https://github.com/rjfarmer/mesaplot\n",
    "```\n",
    "````\n",
    "\n",
    "[**Tulips** Installation](https://astro-tulips.readthedocs.io/en/latest/installation.html)\n",
    "\n",
    "````{note}\n",
    "`py_mesa_reader` is not available on PyPI, so it can be installed using `pip` as:\n",
    "```\n",
    "pip install astro-tulips\n",
    "```\n",
    "````"
   ]
  },
  {
   "cell_type": "code",
   "execution_count": null,
   "metadata": {
    "tags": []
   },
   "outputs": [],
   "source": [
    "import numpy as np\n",
    "import matplotlib.pyplot as plt\n",
    "import pandas as pd"
   ]
  },
  {
   "cell_type": "markdown",
   "metadata": {},
   "source": [
    "## a. H-Burning In a Massive Star\n",
    "\n",
    "### **Individually/ with the person next to you**:\n",
    "\n",
    "Download, or reuse from last class:\n",
    "\n",
    "* $20 M_\\odot$: [20m_he_dep_history.data](data/20m_he_dep_history.data);\n",
    "\n",
    "Using the $20M_\\odot$ model MESA history data (`20m_he_dep_history.data`):\n",
    "\n",
    "1. Plot the log luminosity ($L_{\\rm{nuc}}$) for the `pp` and `cno` burning categories as a function of the `model_number` (x-axis) to determine which dominates in each model. \n",
    "\n",
    "> Set your xlim to (370,600) to focus on the main-sequence\n",
    "\n",
    "2. To help guide follow the temporal evolution, also plot the `center_h1` as a function of model number for both models on the same plot and _label_.\n",
    "\n",
    "---\n",
    "\n",
    "### **With your larger group, try to answer the following**:\n",
    "\n",
    "3. Conclude the dominant burning source on the main-sequence and state if there are any crossover points in a few words.\n",
    "\n",
    "4. Why might the 20M model not have any crossover points like that of the 3$M_{\\odot}$ model?\n",
    "\n",
    "5. Based on your answer to 1., which step in the burning cycle limits or acts as a _bottleneck_ in nuclear burning on the main-sequence in this model?\n",
    "\n",
    "6. Discuss what it might mean for a nuclear reaction to serve as a bottleneck in the main-sequence and give two examples of stellar or galactic properties that it would affect?"
   ]
  },
  {
   "cell_type": "code",
   "execution_count": null,
   "metadata": {},
   "outputs": [],
   "source": [
    "# load 20m data\n",
    "#twenty_m_ms_history = pd.read_csv('###',sep=r'\\s+',header=4)\n",
    "#twenty_m_ms_model_number = twenty_m_ms_history['##'] # model number\n",
    "#twenty_m_ms_pp = twenty_m_ms_history['##'] # L_nuc due to pp chains\n",
    "#twenty_m_ms_cno = twenty_m_ms_history['##'] # L_nuc due to cno chains\n",
    "#twenty_m_ms_h1 = twenty_m_ms_history['##'] # h1 mass fraction"
   ]
  },
  {
   "cell_type": "code",
   "execution_count": null,
   "metadata": {},
   "outputs": [],
   "source": [
    "## 1-2 result here\n",
    "#plt.title('20$M_\\odot$ MESA Model During H-burning')\n",
    "\n",
    "#plt.plot(twenty_m_ms_model_number,\n",
    "#         twenty_m_ms_pp,label=r'$20M_\\odot - pp-chains$')\n",
    "\n",
    "#plt.plot(##,label=r'$20M_\\odot - CNO-chains$')\n",
    "\n",
    "#plt.plot(##,label=r'$20M_\\odot - ^{1}\\rm{H}$')\n",
    "\n",
    "#plt.ylim(\n",
    "#plt.xlim(\n",
    "\n",
    "#plt.legend()\n",
    "#plt.xlabel(r'$\\rm{Model \\ Number}$')\n",
    "#plt.ylabel(r'$\\rm{log}~L_{\\rm{nuc}} \\ (\\rm{erg\\ \\rm{s}^{-1}})$')"
   ]
  },
  {
   "cell_type": "markdown",
   "metadata": {},
   "source": [
    "### Summarize Your Group Responses \n",
    "\n",
    "Your thoughtful responses to 3-6 here. "
   ]
  },
  {
   "cell_type": "markdown",
   "metadata": {},
   "source": [
    "## b. He-Burning In a Massive Star\n",
    "\n",
    "### **Individually / with the person next to you**:\n",
    "\n",
    "Using the $20M_\\odot$ model MESA history data (`20m_he_dep_history.data`):\n",
    "\n",
    "1. Plot the log luminosity ($L_{\\rm{nuc}}$) for the `tri_alpha` ($3\\alpha$) and `c_alpha` (${^{12}\\rm{C}}(\\alpha,\\gamma){^{16}\\rm{O}}$) burning categories as a function of the `model_number` (x-axis) to determine which dominates during core He-burning.\n",
    "\n",
    "> Set your xlim to `(700,)` to focus on the He-burning\n",
    "\n",
    "2. To help guide follow the temporal evolution, also plot the `center_he4`,`center_c12`, and `center_o16` mass fractions as a function of model numbe on the same plot and _label_.\n",
    "\n",
    "> Hint: set ylim to (0,5.2)\n",
    "\n",
    "---\n",
    "\n",
    "### **With your larger group, try to answer the following**:\n",
    "\n",
    "3. Which He-burning category initiates first and why?\n",
    "\n",
    "4. Later in the evolution, the (${^{12}\\rm{C}}(\\alpha,\\gamma){^{16}\\rm{O}}$) takes over as the dominant He-burning reaction, give at least two reasons why this occurs. \n",
    "\n",
    "5. In lower mass stars that produce, C/O white dwarfs, the final C/O ratio of the WD is very important. If you wanted to produce a CO WD with a _large_ CO ratio, which He-burning reaction rate would you enhance and why? What about a _small_ CO ratio?"
   ]
  },
  {
   "cell_type": "code",
   "execution_count": null,
   "metadata": {},
   "outputs": [],
   "source": [
    "# load 20m additional data\n",
    "#twenty_m_ms_tri_alpha = twenty_m_ms_history['###'] # L_nuc due to 3alpha chains\n",
    "#twenty_m_ms_c_alpha = twenty_m_ms_history['###'] # L_nuc due to c_alpha chains\n",
    "#twenty_m_ms_he4 = twenty_m_ms_history['center_he4'] # center he4 mass fraction\n",
    "# center c12 mass fraction\n",
    "# center o16 mass fraction"
   ]
  },
  {
   "cell_type": "code",
   "execution_count": null,
   "metadata": {},
   "outputs": [],
   "source": [
    "## 1-3 result here\n",
    "#plt.title('20$M_\\odot$ MESA Model During He-burning')\n",
    "\n",
    "#plt.plot(twenty_m_ms_model_number,\n",
    "#         twenty_m_ms_tri_alpha,label=r'$20M_\\odot - 3\\alpha$')\n",
    "\n",
    "#plt.plot(##,label=r'$20M_\\odot - {^{12}\\rm{C}(\\alpha,\\gamma)^{16}\\rm{O}}$')\n",
    "\n",
    "#plt.plot(twenty_m_ms_model_number,\n",
    "#         twenty_m_ms_he4,label=r'$20M_\\odot - ^{4}\\rm{He}$')\n",
    "\n",
    "#plt.plot(##,label=r'$20M_\\odot - ^{12}\\rm{C}$')\n",
    "\n",
    "#plt.plot(##,label=r'$20M_\\odot - ^{16}\\rm{O}$')\n",
    "\n",
    "#plt.ylim(\n",
    "#plt.xlim(\n",
    "\n",
    "#plt.legend()\n",
    "#plt.xlabel(r'$\\rm{Model \\ Number}$')\n",
    "#plt.ylabel(r'$\\rm{log}~L_{\\rm{nuc}} \\ (\\rm{erg\\ \\rm{s}^{-1}})$')"
   ]
  },
  {
   "cell_type": "markdown",
   "metadata": {},
   "source": [
    "### Summarize Your Group Responses \n",
    "\n",
    "Your thoughtful responses to 3-5 here. "
   ]
  },
  {
   "cell_type": "markdown",
   "metadata": {},
   "source": [
    "## c. (Optional!) Visualizing the Main-Sequence using Tulips\n",
    "\n",
    "### **Individually / with the person next to you**:\n",
    "\n",
    "Import `tulips` and `mesaPlot` here if you did not import above and then:\n",
    "\n",
    "Download this $1M_{\\odot}$ model evolved from MS to this H-shell burning phase:\n",
    "\n",
    "* $1 M_\\odot$: [1m_thermohaline_history.data](data/1m_thermohaline_history.data);\n",
    "\n",
    "1. Create a folder in your `data` directory or anywhere really, named `tulips` and **copy** your `1m_thermohaline_history.data` into the directory and rename it as `history.data`.\n",
    "\n",
    "2. Then set your directory path for tulips. It will look in this directory for a file called `history.data`.\n",
    "\n",
    "3. Create your data object for analysis using `mesaPlot`: \n",
    "\n",
    "```\n",
    "m1 = mp.MESA()\n",
    "```\n",
    "\n",
    "4. Load the history data using this object:\n",
    "\n",
    "```\n",
    "m1.loadHistory(f=`YOUR_PATH_NAME`)\n",
    "```\n",
    "\n",
    "5. Now, using `tulips` to produce an `energy_and_mixing` plot using your history data. It will create a series of these plots based on your defined step size `N`.\n",
    "\n",
    "### **With your larger group, try to answer the following**:\n",
    "\n",
    "6. Lastly, open and view the plot, can you identify where the model is convective or radiative on the main-sequence?\n",
    "\n",
    "7. (Bonus), Can you see when are where the model experiences thermohaline/double diffusive mixing?"
   ]
  },
  {
   "cell_type": "code",
   "execution_count": null,
   "metadata": {},
   "outputs": [],
   "source": [
    "# only uncomment if you were able to successfully install\n",
    "#import tulips\n",
    "\n",
    "# note the capital `P`\n",
    "#import mesaPlot as mp"
   ]
  },
  {
   "cell_type": "code",
   "execution_count": null,
   "metadata": {},
   "outputs": [],
   "source": [
    "## 1- 4 here\n",
    "#SINGLE_M1_DIR = \"./data/tulips\"\n",
    "\n",
    "#m1 = mp.MESA()\n",
    "#m1.loadHistory(f=SINGLE_M1_DIR)\n",
    "#N = 1"
   ]
  },
  {
   "cell_type": "code",
   "execution_count": null,
   "metadata": {},
   "outputs": [],
   "source": [
    "# compute and plot the viz\n",
    "#tulips.energy_and_mixing(m1, time_ind=(0,-1, N), fps=10, fig_size=(8,6),\n",
    "#                         show_total_mass=True,show_hrd_ticks_and_labels=True, show_mix=True, show_mix_legend=True, \n",
    "#                         output_fname=\"energy_and_mixing\")\n",
    "#plt.show()"
   ]
  },
  {
   "cell_type": "code",
   "execution_count": null,
   "metadata": {},
   "outputs": [],
   "source": [
    "# open and watch the visualization here\n",
    "#from IPython.display import Video\n",
    "\n",
    "#Video(\"energy_and_mixing.mp4\", embed=True, width=700, height=600)"
   ]
  },
  {
   "cell_type": "markdown",
   "metadata": {},
   "source": [
    "### Summarize Your Group Responses \n",
    "\n",
    "Your thoughtful response to 6 (and 7 possibly) here."
   ]
  }
 ],
 "metadata": {
  "kernelspec": {
   "display_name": "Python 3 (ipykernel)",
   "language": "python",
   "name": "python3"
  },
  "language_info": {
   "codemirror_mode": {
    "name": "ipython",
    "version": 3
   },
   "file_extension": ".py",
   "mimetype": "text/x-python",
   "name": "python",
   "nbconvert_exporter": "python",
   "pygments_lexer": "ipython3",
   "version": "3.11.8"
  }
 },
 "nbformat": 4,
 "nbformat_minor": 4
}
