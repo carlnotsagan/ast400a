{
 "cells": [
  {
   "cell_type": "markdown",
   "metadata": {
    "user_expressions": []
   },
   "source": [
    "# In-Class Assignment 8\n",
    "\n",
    "## Exploring Heat Transfer via Convection with MESA\n",
    "\n",
    "### Learning Objectives\n",
    "\n",
    "- identify convective and radiative regions using MESA models and analytical expressions\n",
    "- explain convective behavior in advanced burning massive stars and Solar-like stars"
   ]
  },
  {
   "cell_type": "code",
   "execution_count": null,
   "metadata": {
    "tags": []
   },
   "outputs": [],
   "source": [
    "import numpy as np\n",
    "import matplotlib.pyplot as plt\n",
    "import pandas as pd"
   ]
  },
  {
   "cell_type": "markdown",
   "metadata": {
    "user_expressions": []
   },
   "source": [
    "## a. Convection in Massive Stars\n",
    "\n",
    "Download the following model files locally. These data were produced using the MESA [`20m_ms_convection_profile.data`](https://docs.mesastar.org/en/latest/test_suite/20M_pre_ms_to_core_collapse.html) test suite. \n",
    "\n",
    "* **New** $20.0 M_{\\odot}$ Main-Sequence _profile_ data: [20m_ms_convection_profile.data](data/20m_ms_convection_profile.data);\n",
    "\n",
    "1. Plot the adiabatic gradient `grada`, the radiative gradient `gradr`, and the _Ledoux_ term (`gradL`) as a function of radius (in units of Rsun) using the MESA data.\n",
    "\n",
    "> Hint: You may want to set your ylim to `0.2,1`\n",
    "\n",
    "2. Locate the approximate fractional radius and annotate where the Schwarzchild Criterion\n",
    "$$\n",
    "\\nabla < \\nabla_{\\rm{ad}}\n",
    "$$ \n",
    "is volated and fill in the convective region of the star using [`plt.fill_betweenx()`](https://matplotlib.org/stable/api/_as_gen/matplotlib.axes.Axes.fill_betweenx.html).\n",
    "\n",
    "> Hint: You may want to set your yrange to `(0,1)`\n",
    "\n",
    "\n",
    "3. We found that the limiting cases for $\\nabla_{\\rm{ad}}$ is: 0.4 for an ideal gas without radiation and 0.25 for a radiation-dominated gas. Label these two limits on the same plot using `plt.axhline`\n",
    "    \n",
    "\n",
    "4. **Describe** in a few sentences where is the model convective and way? Also, describe where $\\nabla_{\\rm{ad}}$ is closer to one limit or the other and why? What does it mean when $\\nabla_{\\rm{L}}=0$?\n",
    "\n",
    "\n",
    "\n",
    "> Hint: Compare with Pols Fig. 5.4. \n"
   ]
  },
  {
   "cell_type": "code",
   "execution_count": null,
   "metadata": {},
   "outputs": [],
   "source": [
    "## load MESA data here\n",
    "#massive_star_ms_profile = pd.read_csv('data/20m_ms_convection_profile.data',sep=r'\\s+',header=4)\n",
    "#list(massive_star_ms_profile)"
   ]
  },
  {
   "cell_type": "code",
   "execution_count": null,
   "metadata": {},
   "outputs": [],
   "source": [
    "rsun_cgs = 6.96e10  # cm"
   ]
  },
  {
   "cell_type": "code",
   "execution_count": null,
   "metadata": {},
   "outputs": [],
   "source": [
    "# example reading a variable from the profile data\n",
    "#massive_star_ms_profile_gradrad = massive_star_ms_profile['###\n",
    "#massive_star_ms_profile_radius_cm = massive_star_ms_profile['##\n",
    "#massive_star_ms_profile_gradad = ##\n",
    "#massive_star_ms_profile_gradL = ##"
   ]
  },
  {
   "cell_type": "code",
   "execution_count": null,
   "metadata": {
    "scrolled": false
   },
   "outputs": [],
   "source": [
    "## 1-3 result here\n",
    "#plt.title('20$M_\\odot$ Main-Sequence MESA Model')\n",
    "\n",
    "#plt.plot(##\n",
    "#         ##,label=r'$\\nabla_{\\rm{ad}}$')\n",
    "\n",
    "\n",
    "#plt.axhline(##,ls='--',lw=1,color='cyan') # ideal gas nabla ad\n",
    "#plt.axhline(##,ls='--',lw=1,color='cyan') # radiation dominated gas nabla ad\n",
    "\n",
    "#plt.fill_betweenx((0,1),#,##,color='dodgerblue',alpha=0.5) # fill in convective zone\n",
    "\n",
    "#plt.axvline(##,color='k',ls='--',lw=1) # convective zone boundary\n",
    "\n",
    "#plt.ylim(\n",
    "#plt.xlim(\n",
    "\n",
    "#plt.legend()\n",
    "#plt.xlabel(r'$r/R_{\\odot}$')\n",
    "#plt.ylabel(r'$\\nabla$')"
   ]
  },
  {
   "cell_type": "markdown",
   "metadata": {},
   "source": [
    "### 4. result here\n",
    "Radiation dominated, lower $\\nabla_{\\rm{ad}}$ in the atmosphere and it is in fact convective. When $\\nabla_{\\rm{L}}=0$, the composition is uniform."
   ]
  },
  {
   "cell_type": "markdown",
   "metadata": {},
   "source": [
    "## b. Convection in a Solar-Like Star\n",
    "\n",
    "Download the following model files locally. These data were produced using the MESA [`1m_pre_ms_to_wd.data`](https://docs.mesastar.org/en/latest/test_suite/1m_pre_ms_to_wd.html) test suite. \n",
    "\n",
    "* $1.0 M_{\\odot}$ Main-Sequence _profile_ data: [1m_pre_ms_to_wd.data](data/1m_pre_ms_to_wd.data);\n",
    "\n",
    "1. Plot the adiabatic gradient `grada` and the radiative gradient `gradr` as a function of radius (in units of Rsun) using the MESA data.\n",
    "\n",
    "2. Locate the approximate fractional radius and annotate where the Schwarzchild Criterion\n",
    "$$\n",
    "\\nabla < \\nabla_{\\rm{ad}}\n",
    "$$ \n",
    "is volated and fill in the convective region of the star using [`plt.fill_betweenx()`](https://matplotlib.org/stable/api/_as_gen/matplotlib.axes.Axes.fill_betweenx.html).\n",
    "\n",
    "> Hint: You may want to set your yrange to `(0,1)`\n",
    "\n",
    "\n",
    "3. We found that the limiting cases for $\\nabla_{\\rm{ad}}$ is: 0.4 for an ideal gas without radiation and 0.25 for a radiation-dominated gas. Label these two limits on the same plot using `plt.axhline`\n",
    "    \n",
    "\n",
    "4. **Describe** in a few sentences where is the model convective and way? Also, describe where $\\nabla_{\\rm{ad}}$ is closer to one limit or the other and why?\n",
    "\n",
    "\n",
    "\n",
    "> Hint: Compare with Pols Fig. 5.4. \n"
   ]
  },
  {
   "cell_type": "code",
   "execution_count": null,
   "metadata": {},
   "outputs": [],
   "source": [
    "## load b data here\n",
    "#massive_star_ms_profile = pd.read_csv('data/1m_pre_ms_to_wd.data',sep=r'\\s+',header=4)\n",
    "#massive_star_ms_profile_gradrad = massive_star_ms_profile['##\n",
    "#massive_star_ms_profile_radius_cm = massive_star_ms_profile['##\n",
    "#massive_star_ms_profile_gradad = massive_star_ms_profile['##\n",
    "# this data set doesnt have gradL :(                                                        "
   ]
  },
  {
   "cell_type": "code",
   "execution_count": null,
   "metadata": {},
   "outputs": [],
   "source": [
    "## 1-3 result here\n",
    "#plt.plot(##,label=r'$\\nabla_{\\rm{ad}}$')\n",
    "\n",
    "#plt.plot(##,label=r'$\\nabla_{\\rm{rad}}$')\n",
    "\n",
    "#plt.title('1$M_\\odot$ Main-Sequence MESA Model')\n",
    "\n",
    "#plt.fill_betweenx(#\n",
    "\n",
    "#plt.axvline(#\n",
    "\n",
    "#plt.legend()\n",
    "#plt.xlabel(r'$r/R_{\\odot}$')\n",
    "#plt.ylabel(r'$\\nabla$')"
   ]
  },
  {
   "cell_type": "markdown",
   "metadata": {},
   "source": [
    "## c. Convection in an Advanced Massive Star\n",
    "\n",
    "Download the following model files locally. These data were produced using the MESA [`15m_core_O_burning_profile.data`](https://docs.mesastar.org/en/latest/test_suite/1m_pre_ms_to_wd.html) test suite. \n",
    "\n",
    "* **New** $15 M_{\\odot}$ Core O-Burning _profile_ data: [15m_core_O_burning_profile.data](data/15m_core_O_burning_profile.data);\n",
    "\n",
    "1. Plot the adiabatic gradient `grada` and the radiative gradient `gradr` as a function of **mass** `mass` (in units of Msun) using the MESA data from 0 to 7 Msun.\n",
    "\n",
    "2. On the same plot, plot the normalized nuclear energy generation rate `eps_nuc` and the non-normalized mean molecular weight. Set the ylim to 0,2.\n",
    "\n",
    "3. Locate the approximate fractional radius and annotate where the Schwarzchild Criterion\n",
    "$$\n",
    "\\nabla < \\nabla_{\\rm{ad}}\n",
    "$$ \n",
    "is volated and fill in the convective region of the star using [`plt.fill_betweenx()`](https://matplotlib.org/stable/api/_as_gen/matplotlib.axes.Axes.fill_betweenx.html).\n",
    "\n",
    "> Hint: There are at least two in this model.\n",
    "\n",
    "> Hint: You may want to set your yrange to `(0,2)`\n",
    "\n",
    "\n",
    "4. **Describe** in a few sentences where is the model convective and way? Also, describe where $\\nabla_{\\rm{ad}}$ is closer to one limit or the other and why?\n",
    "\n",
    "\n",
    "> Hint: Compare with [Farmer et al. 2016](https://content.cld.iop.org/journals/0067-0049/227/2/22/revision1/apjsaa4c33f15_hr.jpg)\n",
    "\n",
    "Stars might be like onions after all?? Not parfaits.."
   ]
  },
  {
   "cell_type": "code",
   "execution_count": null,
   "metadata": {},
   "outputs": [],
   "source": [
    "## load c data\n",
    "#massive_star_ms_profile = pd.read_csv('data/15m_core_O_burning_profile.data',sep=r'\\s+',header=4)\n",
    "#massive_star_ms_profile_gradrad = massive_star_ms_profile['##\n",
    "#massive_star_ms_profile_mass = massive_star_ms_profile['##\n",
    "#massive_star_ms_profile_gradad = massive_star_ms_profile['##\n",
    "#massive_star_ms_profile_eps_nuc = ##\n",
    "#massive_star_ms_profile_mu = ##"
   ]
  },
  {
   "cell_type": "code",
   "execution_count": null,
   "metadata": {},
   "outputs": [],
   "source": [
    "# 1 - 3 result here\n",
    "#plt.plot(##,label=r'$\\nabla_{\\rm{ad}}$')\n",
    "\n",
    "#plt.plot(##,label=r'$\\nabla_{\\rm{rad}}$')\n",
    "\n",
    "#plt.plot(##,label=r'$\\epsilon_{\\rm{nuc}}$') # dont forget to normalize by max\n",
    "\n",
    "#plt.plot(##,label=r'$\\mu$')\n",
    "\n",
    "#plt.title('15$M_\\odot$ Core O-Burning MESA Model')\n",
    "\n",
    "#plt.legend()\n",
    "#plt.xlabel(r'$m/M_{\\odot}$')\n",
    "#plt.ylabel(r'$\\nabla,\\mu,\\epsilon_{\\rm{nuc,normalized}}$')"
   ]
  },
  {
   "cell_type": "markdown",
   "metadata": {},
   "source": []
  }
 ],
 "metadata": {
  "kernelspec": {
   "display_name": "Python 3 (ipykernel)",
   "language": "python",
   "name": "python3"
  },
  "language_info": {
   "codemirror_mode": {
    "name": "ipython",
    "version": 3
   },
   "file_extension": ".py",
   "mimetype": "text/x-python",
   "name": "python",
   "nbconvert_exporter": "python",
   "pygments_lexer": "ipython3",
   "version": "3.11.8"
  }
 },
 "nbformat": 4,
 "nbformat_minor": 4
}
