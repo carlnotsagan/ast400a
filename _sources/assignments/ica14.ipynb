{
 "cells": [
  {
   "cell_type": "markdown",
   "metadata": {
    "user_expressions": []
   },
   "source": [
    "# In-Class Assignment 14\n",
    "\n",
    "## The TP-AGB Phase\n",
    "\n",
    "### Learning Objectives\n",
    "\n",
    "- explore the 3DU event in intermediate mass stars\n",
    "- gain a qualitative understanding of the He-shell flash region and interpulse properties\n",
    "- explore implications of c13 pocket in a low mass AGB star"
   ]
  },
  {
   "cell_type": "code",
   "execution_count": null,
   "metadata": {
    "tags": []
   },
   "outputs": [],
   "source": [
    "import numpy as np\n",
    "import matplotlib.pyplot as plt\n",
    "import pandas as pd"
   ]
  },
  {
   "cell_type": "markdown",
   "metadata": {
    "user_expressions": []
   },
   "source": [
    "Download the following model file locally. These data were produced using the `c13_pocket` test suite. \n",
    "\n",
    "* $3 M_{\\odot}$: [3m_to_3DU_history.data](data/3m_to_3DU_history.data); - the model starts from core He-depletion.\n",
    "\n",
    "* $3 M_{\\odot}$: [3m_c13_pocket_history.data](data/3m_c13_pocket.data); - this data covers one full thermal pulse and captures the presence of a c13 pocket. \n",
    "\n",
    "* $3 M_{\\odot}$: [LOGS.zip](data/LOGS.zip); - this contains a LOG folder and one profile file during the above c13 pocket TP. Once downloaded upzip in the current working directory. "
   ]
  },
  {
   "cell_type": "markdown",
   "metadata": {},
   "source": [
    "## a. - Thermally Pulsing AGB Star\n",
    "\n",
    "### **Individually/with the person next to you**:\n",
    "\n",
    "Using the $3M_{\\odot}$  `3m_to_3DU_history.data` MESA history dataset: \n",
    "\n",
    "1. Plot the log total luminosity $\\rm{log}~L$ and log helium luminosity $\\rm{log}~L_{\\rm{He}}$ as a function of star age (`star_age`) in units of Gyr.\n",
    "\n",
    "> Hint: to zoom in on only the TP-AGB phase, set the xlimits to [1.225,1.227]\n",
    "\n",
    "2. Plot the surface abundances of ${^{12}\\rm{C}}$, ${^{14}\\rm{N}}$, and ${^{16}\\rm{O}}$ as a function of star age (`star_age`) in units of Gyr.\n",
    "\n",
    "> Hint: use the same x -axis limits as part 1. \n",
    "\n",
    "> Hint: if you click the left panel in a jupyter notebook next to a long cell it will hide/unhide the full content to make it shorter to scroll. \n",
    "\n",
    "3. Use these two plots the answer/discuss the following questions below with your group. "
   ]
  },
  {
   "cell_type": "code",
   "execution_count": null,
   "metadata": {
    "scrolled": true
   },
   "outputs": [],
   "source": [
    "# load data and see which variables are available\n",
    "#tp_agb_data = pd.read_csv('##',sep=r'\\s+',header=4)\n",
    "#tp_agb_data.head(10)\n",
    "#list(tp_agb_data)"
   ]
  },
  {
   "cell_type": "code",
   "execution_count": null,
   "metadata": {},
   "outputs": [],
   "source": [
    "# load vars here\n",
    "#three_m_star_age_years = tp_agb_data['##']\n",
    "#three_m_log_L = tp_agb_data['##']\n",
    "#three_m_log_LHe = tp_agb_data['##']\n",
    "\n",
    "#three_m_surface_c12 = tp_agb_data['surface_#']\n",
    "#three_m_surface_n14 = tp_agb_data['surface_#'] \n",
    "#three_m_surface_o16 = tp_agb_data['surface_#']"
   ]
  },
  {
   "cell_type": "code",
   "execution_count": null,
   "metadata": {},
   "outputs": [],
   "source": [
    "## 1 result here\n",
    "#plt.title('3$M_{\\odot}$ Model During TP-AGB Phase')\n",
    "\n",
    "#plt.plot(##/1e9,\n",
    "         ##,label=r'$L$')\n",
    "\n",
    "#plt.plot(##/1e9,\n",
    "#         ##,label=r'$L_{\\rm{He}}$')\n",
    "\n",
    "\n",
    "#plt.xlim(##\n",
    "\n",
    "#plt.legend()\n",
    "#plt.xlabel(r'$\\rm{Age \\ (Gyr)}$')\n",
    "#plt.ylabel(r'$\\rm{log}~L \\ (L_{\\odot})$')"
   ]
  },
  {
   "cell_type": "code",
   "execution_count": null,
   "metadata": {},
   "outputs": [],
   "source": [
    "## 2 result here\n",
    "#plt.title('3$M_{\\odot}$ Model During TP-AGB Phase')\n",
    "\n",
    "#plt.plot(three_m_star_age_years/1e9,\n",
    "#         three_m_surface_###,label=r'$X_{surf.}(^{12}\\rm{C})$')\n",
    "\n",
    "#plt.plot(three_m_star_age_years/1e9,\n",
    "#         three_m_surface_##,label=r'$X_{surf.}(^{14}\\rm{N})$')\n",
    "\n",
    "#plt.plot(three_m_star_age_years/1e9,\n",
    "#         three_m_surface_##,label=r'$X_{surf.}(^{16}\\rm{O})$')\n",
    "\n",
    "\n",
    "#plt.xlim(#\n",
    "\n",
    "\n",
    "#plt.legend()\n",
    "#plt.xlabel(r'$\\rm{Age \\ (Gyr)}$')\n",
    "#plt.ylabel(r'$\\rm{Surface \\ Mass \\ Fraction}$')"
   ]
  },
  {
   "cell_type": "markdown",
   "metadata": {},
   "source": [
    "### **With your larger group, try to answer the following**:\n",
    "\n",
    "Using these plots answer the following:\n",
    "\n",
    "> How many pulses are covered over this range?\n",
    "\n",
    "    Your groups thoughtful response.\n",
    "\n",
    "> What is their qualitative properties over time?\n",
    "\n",
    "    Your groups thoughtful response.\n",
    "\n",
    "> What is the approximate time between pulses, the _interpulse period_?\n",
    "\n",
    "    Your groups thoughtful response.\n",
    "\n",
    "> Hint: Compare with Pols [Figure 11.3/11.4](https://www.ucolick.org/~woosley/ay112-14/texts/pols11.pdf)\n",
    "\n",
    "\n",
    "> Does this model experience a third dredge up event during this time? If so, how can we tell?\n",
    "\n",
    "    Your groups thoughtful response.\n",
    "\n",
    "> Does this model show evidence for hot bottom burning (HBB)?\n",
    "\n",
    "    Your groups thoughtful response."
   ]
  },
  {
   "cell_type": "markdown",
   "metadata": {},
   "source": [
    "## b - Identifying Structure of TP-AGB Stars\n",
    "\n",
    "### **Individually/with the person next to you**:\n",
    "\n",
    "Using the $3M_{\\odot}$  `3m_c13_pocket_history.data` MESA history dataset: \n",
    "\n",
    "1. Plot a [Kippenhahn diagram](https://en.wikipedia.org/wiki/Rudolf_Kippenhahn) using mesaPlot and zoom into the He-shell flash region (about 0.5-0.6 $M_{\\odot}$) using `yrng`. \n",
    "\n",
    "    * To use these data, create a directory called `LOGS` in the same directory as this notebook\n",
    "    * Copy `3m_c13_pocket_history.data` into the created `LOGS` directory \n",
    "    * rename the file in the `LOGS` directory to `history.data`\n",
    "\n",
    "> Hint: you might have to install/reinstall mesaPlot like we did in [ICA10](https://carlnotsagan.github.io/ast400a/assignments/ica10.html?highlight=mesaplot).\n",
    "\n",
    "2. Using your Kippenhahn diagram, answer the following with your group."
   ]
  },
  {
   "cell_type": "code",
   "execution_count": null,
   "metadata": {},
   "outputs": [],
   "source": [
    "## b result here\n",
    "#import mesaPlot as mp\n",
    "#m=mp.MESA()\n",
    "#p=mp.plot()\n",
    "#m.loadHistory('LOGS')\n",
    "#kip = p.plotKip(m,show_mass_loc=True,yrng=[##,##])"
   ]
  },
  {
   "cell_type": "markdown",
   "metadata": {},
   "source": [
    "### **With your larger group, try to answer the following**:\n",
    "\n",
    "1. In the Kippenhahn Diagram, identify the following and state their approximate mass coordinate: the H-burning shell, the He-burning shell, the CO core, the intershell convective zone (ICZ), and the H-envelope. \n",
    "\n",
    "> Your group's thoughtful response. "
   ]
  },
  {
   "cell_type": "markdown",
   "metadata": {},
   "source": [
    "## c. - the c13 pocket\n",
    "\n",
    "### **Individually/with the person next to you**:\n",
    "\n",
    "1. Use the `Abund` function in mesaPlot to confirm the presence of the formation of a c13 pocket during the interpulse phase for this model. \n",
    "\n",
    "\n",
    "> Hint: Set `xmin=0.5787` and `xmax=0.579`, the ylimit for the abundances to `y1rng=[1e-3,1]` to zoom in on the pocket!\n"
   ]
  },
  {
   "cell_type": "code",
   "execution_count": null,
   "metadata": {},
   "outputs": [],
   "source": [
    "# c result here\n",
    "#m=mp.MESA()\n",
    "#p=mp.plot()\n",
    "#m.loadProfile(f='LOGS/profile38.data')\n",
    "#p.plotAbun(m,\n",
    "#           xmin=##,xmax=##, # set these based on the inspection of the Kipp above\n",
    "#           cmap=plt.cm.inferno_r,num_labels=10,\n",
    "#          y1rng=[##,##])"
   ]
  },
  {
   "cell_type": "markdown",
   "metadata": {},
   "source": [
    "### **With your larger group, try to answer the following**:\n",
    "\n",
    "1. What does the presence of the c13 pocket imply about the observational characteristics of the AGB star?\n",
    "\n",
    "> Your group's thoughtful response. "
   ]
  },
  {
   "cell_type": "code",
   "execution_count": null,
   "metadata": {},
   "outputs": [],
   "source": []
  }
 ],
 "metadata": {
  "kernelspec": {
   "display_name": "Python 3 (ipykernel)",
   "language": "python",
   "name": "python3"
  },
  "language_info": {
   "codemirror_mode": {
    "name": "ipython",
    "version": 3
   },
   "file_extension": ".py",
   "mimetype": "text/x-python",
   "name": "python",
   "nbconvert_exporter": "python",
   "pygments_lexer": "ipython3",
   "version": "3.11.8"
  }
 },
 "nbformat": 4,
 "nbformat_minor": 4
}
